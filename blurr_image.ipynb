{
  "cells": [
    {
      "cell_type": "markdown",
      "metadata": {
        "id": "view-in-github",
        "colab_type": "text"
      },
      "source": [
        "<a href=\"https://colab.research.google.com/github/sunand-kumar/new/blob/master/blurr_image.ipynb\" target=\"_parent\"><img src=\"https://colab.research.google.com/assets/colab-badge.svg\" alt=\"Open In Colab\"/></a>"
      ]
    },
    {
      "cell_type": "code",
      "execution_count": null,
      "id": "b913bf08-90c3-408a-8c0f-335694162854",
      "metadata": {
        "id": "b913bf08-90c3-408a-8c0f-335694162854"
      },
      "outputs": [],
      "source": [
        "import cv2\n",
        "import numpy as np"
      ]
    },
    {
      "cell_type": "code",
      "execution_count": null,
      "id": "951f7b85-3c60-4e88-9cea-d5c30bfb983b",
      "metadata": {
        "id": "951f7b85-3c60-4e88-9cea-d5c30bfb983b"
      },
      "outputs": [],
      "source": [
        "image = cv2.imread('./hayagreeva.jpg')"
      ]
    },
    {
      "cell_type": "code",
      "execution_count": null,
      "id": "94a3ef8c-5a01-45bb-b953-b8455bbaf778",
      "metadata": {
        "id": "94a3ef8c-5a01-45bb-b953-b8455bbaf778"
      },
      "outputs": [],
      "source": [
        "kernel = np.ones((3,3), np.float32)/9"
      ]
    },
    {
      "cell_type": "code",
      "execution_count": null,
      "id": "cc29badf-2f81-4246-9ee1-7cf920cf0176",
      "metadata": {
        "id": "cc29badf-2f81-4246-9ee1-7cf920cf0176"
      },
      "outputs": [],
      "source": [
        "cv2.imshow('original image', image)\n",
        "cv2.waitKey()\n",
        "\n",
        "kernel = np.ones((7,7), np.float32)/49\n",
        "\n",
        "blurred = cv2.filter2D(image, -1, kernel)\n",
        "cv2.imshow(\"blurred image\", blurred)\n",
        "cv2.waitKey()\n",
        "cv2.destroyAllWindows()"
      ]
    },
    {
      "cell_type": "code",
      "execution_count": null,
      "id": "19af125d-8c36-4590-8790-8a70dcc77304",
      "metadata": {
        "id": "19af125d-8c36-4590-8790-8a70dcc77304"
      },
      "outputs": [],
      "source": [
        "cv2.imshow('original image', image)\n",
        "cv2.waitKey()\n",
        "\n",
        "img = cv2.blur(image, (3,3))\n",
        "cv2.imshow('blur', img)\n",
        "cv2.waitKey()\n",
        "\n",
        "img1 = cv2.GaussianBlur(image, (7,7), 0)\n",
        "cv2.imshow('GaussianBlur', img1)\n",
        "cv2.waitKey()\n",
        "\n",
        "img2 = cv2.medianBlur(image, 5)\n",
        "cv2.imshow('Medianblur', img2)\n",
        "cv2.waitKey()\n",
        "\n",
        "img3 = cv2.bilateralFilter(image, 9, 75, 75)\n",
        "cv2.imshow('bilateralFilter', img3)\n",
        "cv2.waitKey()\n",
        "cv2.destroyAllWindows()"
      ]
    },
    {
      "cell_type": "code",
      "execution_count": null,
      "id": "ef62f4bd-ed3d-459c-aa6a-7a3e06fdfaa0",
      "metadata": {
        "id": "ef62f4bd-ed3d-459c-aa6a-7a3e06fdfaa0"
      },
      "outputs": [],
      "source": []
    }
  ],
  "metadata": {
    "kernelspec": {
      "display_name": "Python 3 (ipykernel)",
      "language": "python",
      "name": "python3"
    },
    "language_info": {
      "codemirror_mode": {
        "name": "ipython",
        "version": 3
      },
      "file_extension": ".py",
      "mimetype": "text/x-python",
      "name": "python",
      "nbconvert_exporter": "python",
      "pygments_lexer": "ipython3",
      "version": "3.12.10"
    },
    "colab": {
      "provenance": [],
      "include_colab_link": true
    }
  },
  "nbformat": 4,
  "nbformat_minor": 5
}