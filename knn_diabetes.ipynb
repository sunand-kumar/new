{
  "cells": [
    {
      "cell_type": "markdown",
      "metadata": {
        "id": "view-in-github",
        "colab_type": "text"
      },
      "source": [
        "<a href=\"https://colab.research.google.com/github/sunand-kumar/new/blob/master/knn_diabetes.ipynb\" target=\"_parent\"><img src=\"https://colab.research.google.com/assets/colab-badge.svg\" alt=\"Open In Colab\"/></a>"
      ]
    },
    {
      "cell_type": "code",
      "execution_count": null,
      "id": "a914a35d-2fdd-4664-9434-e062d559f86f",
      "metadata": {
        "id": "a914a35d-2fdd-4664-9434-e062d559f86f"
      },
      "outputs": [],
      "source": [
        "import pyforest"
      ]
    },
    {
      "cell_type": "code",
      "execution_count": null,
      "id": "530efd75-1778-4f61-99dd-ef06c1640dde",
      "metadata": {
        "id": "530efd75-1778-4f61-99dd-ef06c1640dde",
        "outputId": "3d1999d2-7a89-436c-f65a-9ca60290067c"
      },
      "outputs": [
        {
          "data": {
            "application/javascript": [
              "\n",
              "        if (window._pyforest_update_imports_cell) { window._pyforest_update_imports_cell('import pandas as pd'); }\n",
              "    "
            ],
            "text/plain": [
              "<IPython.core.display.Javascript object>"
            ]
          },
          "metadata": {},
          "output_type": "display_data"
        },
        {
          "data": {
            "text/html": [
              "<div>\n",
              "<style scoped>\n",
              "    .dataframe tbody tr th:only-of-type {\n",
              "        vertical-align: middle;\n",
              "    }\n",
              "\n",
              "    .dataframe tbody tr th {\n",
              "        vertical-align: top;\n",
              "    }\n",
              "\n",
              "    .dataframe thead th {\n",
              "        text-align: right;\n",
              "    }\n",
              "</style>\n",
              "<table border=\"1\" class=\"dataframe\">\n",
              "  <thead>\n",
              "    <tr style=\"text-align: right;\">\n",
              "      <th></th>\n",
              "      <th>Pregnancies</th>\n",
              "      <th>Glucose</th>\n",
              "      <th>BloodPressure</th>\n",
              "      <th>SkinThickness</th>\n",
              "      <th>Insulin</th>\n",
              "      <th>BMI</th>\n",
              "      <th>DiabetesPedigreeFunction</th>\n",
              "      <th>Age</th>\n",
              "      <th>Outcome</th>\n",
              "    </tr>\n",
              "  </thead>\n",
              "  <tbody>\n",
              "    <tr>\n",
              "      <th>0</th>\n",
              "      <td>6</td>\n",
              "      <td>148</td>\n",
              "      <td>72</td>\n",
              "      <td>35</td>\n",
              "      <td>0</td>\n",
              "      <td>33.6</td>\n",
              "      <td>0.627</td>\n",
              "      <td>50</td>\n",
              "      <td>1</td>\n",
              "    </tr>\n",
              "    <tr>\n",
              "      <th>1</th>\n",
              "      <td>1</td>\n",
              "      <td>85</td>\n",
              "      <td>66</td>\n",
              "      <td>29</td>\n",
              "      <td>0</td>\n",
              "      <td>26.6</td>\n",
              "      <td>0.351</td>\n",
              "      <td>31</td>\n",
              "      <td>0</td>\n",
              "    </tr>\n",
              "    <tr>\n",
              "      <th>2</th>\n",
              "      <td>8</td>\n",
              "      <td>183</td>\n",
              "      <td>64</td>\n",
              "      <td>0</td>\n",
              "      <td>0</td>\n",
              "      <td>23.3</td>\n",
              "      <td>0.672</td>\n",
              "      <td>32</td>\n",
              "      <td>1</td>\n",
              "    </tr>\n",
              "    <tr>\n",
              "      <th>3</th>\n",
              "      <td>1</td>\n",
              "      <td>89</td>\n",
              "      <td>66</td>\n",
              "      <td>23</td>\n",
              "      <td>94</td>\n",
              "      <td>28.1</td>\n",
              "      <td>0.167</td>\n",
              "      <td>21</td>\n",
              "      <td>0</td>\n",
              "    </tr>\n",
              "    <tr>\n",
              "      <th>4</th>\n",
              "      <td>0</td>\n",
              "      <td>137</td>\n",
              "      <td>40</td>\n",
              "      <td>35</td>\n",
              "      <td>168</td>\n",
              "      <td>43.1</td>\n",
              "      <td>2.288</td>\n",
              "      <td>33</td>\n",
              "      <td>1</td>\n",
              "    </tr>\n",
              "  </tbody>\n",
              "</table>\n",
              "</div>"
            ],
            "text/plain": [
              "   Pregnancies  Glucose  BloodPressure  SkinThickness  Insulin   BMI  \\\n",
              "0            6      148             72             35        0  33.6   \n",
              "1            1       85             66             29        0  26.6   \n",
              "2            8      183             64              0        0  23.3   \n",
              "3            1       89             66             23       94  28.1   \n",
              "4            0      137             40             35      168  43.1   \n",
              "\n",
              "   DiabetesPedigreeFunction  Age  Outcome  \n",
              "0                     0.627   50        1  \n",
              "1                     0.351   31        0  \n",
              "2                     0.672   32        1  \n",
              "3                     0.167   21        0  \n",
              "4                     2.288   33        1  "
            ]
          },
          "execution_count": 9,
          "metadata": {},
          "output_type": "execute_result"
        }
      ],
      "source": [
        "df = pd.read_csv('C:/Users/Sunith/Documents/diabetes.csv')\n",
        "df.head()"
      ]
    },
    {
      "cell_type": "code",
      "execution_count": null,
      "id": "104f7af2-047b-4f1d-b56d-c6ead3d3f138",
      "metadata": {
        "id": "104f7af2-047b-4f1d-b56d-c6ead3d3f138",
        "outputId": "d96acf53-a16b-4169-f1d3-a5b30bfc6594"
      },
      "outputs": [
        {
          "data": {
            "text/plain": [
              "Index(['Pregnancies', 'Glucose', 'BloodPressure', 'SkinThickness', 'Insulin',\n",
              "       'BMI', 'DiabetesPedigreeFunction', 'Age', 'Outcome'],\n",
              "      dtype='object')"
            ]
          },
          "execution_count": 10,
          "metadata": {},
          "output_type": "execute_result"
        }
      ],
      "source": [
        "df.columns"
      ]
    },
    {
      "cell_type": "code",
      "execution_count": null,
      "id": "2de666cf-d4d3-408e-a6ee-b87229dd4b8d",
      "metadata": {
        "id": "2de666cf-d4d3-408e-a6ee-b87229dd4b8d",
        "outputId": "7a9bf2d7-eaa9-4a2e-958c-4959fae860e0"
      },
      "outputs": [
        {
          "data": {
            "text/plain": [
              "Pregnancies                   int64\n",
              "Glucose                       int64\n",
              "BloodPressure                 int64\n",
              "SkinThickness                 int64\n",
              "Insulin                       int64\n",
              "BMI                         float64\n",
              "DiabetesPedigreeFunction    float64\n",
              "Age                           int64\n",
              "Outcome                       int64\n",
              "dtype: object"
            ]
          },
          "execution_count": 11,
          "metadata": {},
          "output_type": "execute_result"
        }
      ],
      "source": [
        "df.dtypes"
      ]
    },
    {
      "cell_type": "code",
      "execution_count": null,
      "id": "2b983062-df06-4eb4-96a7-508ace642768",
      "metadata": {
        "id": "2b983062-df06-4eb4-96a7-508ace642768",
        "outputId": "116787f0-bf37-4eda-d03e-0bf824745907"
      },
      "outputs": [
        {
          "data": {
            "text/plain": [
              "Pregnancies                 0\n",
              "Glucose                     0\n",
              "BloodPressure               0\n",
              "SkinThickness               0\n",
              "Insulin                     0\n",
              "BMI                         0\n",
              "DiabetesPedigreeFunction    0\n",
              "Age                         0\n",
              "Outcome                     0\n",
              "dtype: int64"
            ]
          },
          "execution_count": 13,
          "metadata": {},
          "output_type": "execute_result"
        }
      ],
      "source": [
        "df.isna().sum()"
      ]
    },
    {
      "cell_type": "code",
      "execution_count": null,
      "id": "fb057777-c59c-4738-a001-a78fb230805e",
      "metadata": {
        "id": "fb057777-c59c-4738-a001-a78fb230805e",
        "outputId": "e0f1d81e-04dc-45a9-f48a-ef4868d48816"
      },
      "outputs": [
        {
          "data": {
            "text/plain": [
              "Outcome\n",
              "0    500\n",
              "1    268\n",
              "Name: count, dtype: int64"
            ]
          },
          "execution_count": 14,
          "metadata": {},
          "output_type": "execute_result"
        }
      ],
      "source": [
        "df['Outcome'].value_counts()"
      ]
    },
    {
      "cell_type": "code",
      "execution_count": null,
      "id": "bc8eb5e2-1cca-4d85-977a-2d22da8c4da0",
      "metadata": {
        "id": "bc8eb5e2-1cca-4d85-977a-2d22da8c4da0",
        "outputId": "778b8e45-342d-405f-dc72-19bac2e1f2bf"
      },
      "outputs": [
        {
          "data": {
            "text/plain": [
              "Outcome\n",
              "0    0.651042\n",
              "1    0.348958\n",
              "Name: proportion, dtype: float64"
            ]
          },
          "execution_count": 16,
          "metadata": {},
          "output_type": "execute_result"
        }
      ],
      "source": [
        "df['Outcome'].value_counts(normalize=True)"
      ]
    },
    {
      "cell_type": "code",
      "execution_count": null,
      "id": "6bab380e-1499-4321-8c6a-fbfd181dfbfc",
      "metadata": {
        "id": "6bab380e-1499-4321-8c6a-fbfd181dfbfc"
      },
      "outputs": [],
      "source": [
        "from sklearn.model_selection import train_test_split, cross_validate\n",
        "from sklearn.linear_model import LogisticRegression\n",
        "from sklearn.neighbors import KNeighborsClassifier\n",
        "from sklearn.metrics import confusion_matrix, accuracy_score"
      ]
    },
    {
      "cell_type": "code",
      "execution_count": null,
      "id": "7676e6d1-2767-428b-a35e-a7c566f3188e",
      "metadata": {
        "id": "7676e6d1-2767-428b-a35e-a7c566f3188e"
      },
      "outputs": [],
      "source": [
        "from sklearn.preprocessing import StandardScaler"
      ]
    },
    {
      "cell_type": "code",
      "execution_count": null,
      "id": "072546f2-46aa-466a-8f43-58b5b194def2",
      "metadata": {
        "id": "072546f2-46aa-466a-8f43-58b5b194def2"
      },
      "outputs": [],
      "source": [
        "x = df.drop('Outcome', axis=1).values\n",
        "y = df['Outcome'].values"
      ]
    },
    {
      "cell_type": "code",
      "execution_count": null,
      "id": "f7ada392-9527-4609-bc2a-f0727695e8c7",
      "metadata": {
        "id": "f7ada392-9527-4609-bc2a-f0727695e8c7",
        "outputId": "053bc8fd-178e-4188-ad8b-c845128249c9"
      },
      "outputs": [
        {
          "data": {
            "text/plain": [
              "(768, 8)"
            ]
          },
          "execution_count": 20,
          "metadata": {},
          "output_type": "execute_result"
        }
      ],
      "source": [
        "x.shape"
      ]
    },
    {
      "cell_type": "code",
      "execution_count": null,
      "id": "2d2271fb-a325-4d81-b087-b5b501902f5c",
      "metadata": {
        "id": "2d2271fb-a325-4d81-b087-b5b501902f5c",
        "outputId": "b8ca52e9-a52c-4d9d-9203-58be7947800b"
      },
      "outputs": [
        {
          "data": {
            "text/plain": [
              "(768,)"
            ]
          },
          "execution_count": 21,
          "metadata": {},
          "output_type": "execute_result"
        }
      ],
      "source": [
        "y.shape"
      ]
    },
    {
      "cell_type": "code",
      "execution_count": null,
      "id": "65d8915c-26fa-40bd-ba09-6166b1274bee",
      "metadata": {
        "id": "65d8915c-26fa-40bd-ba09-6166b1274bee"
      },
      "outputs": [],
      "source": [
        "x_train,x_test,y_train,y_test = train_test_split(x,y,test_size=0.2,random_state=22)"
      ]
    },
    {
      "cell_type": "code",
      "execution_count": null,
      "id": "a57cd9a0-25c5-41d4-981d-c37987d6f55a",
      "metadata": {
        "id": "a57cd9a0-25c5-41d4-981d-c37987d6f55a",
        "outputId": "1d700d3d-a98f-4dd5-dad3-cbb499d09c95"
      },
      "outputs": [
        {
          "data": {
            "text/plain": [
              "(614, 8)"
            ]
          },
          "execution_count": 23,
          "metadata": {},
          "output_type": "execute_result"
        }
      ],
      "source": [
        "x_train.shape"
      ]
    },
    {
      "cell_type": "code",
      "execution_count": null,
      "id": "289f9fc1-8a17-4277-8460-da3099c13767",
      "metadata": {
        "id": "289f9fc1-8a17-4277-8460-da3099c13767",
        "outputId": "0632f15f-623d-4124-c5b8-e7387651ec99"
      },
      "outputs": [
        {
          "data": {
            "text/plain": [
              "(154, 8)"
            ]
          },
          "execution_count": 24,
          "metadata": {},
          "output_type": "execute_result"
        }
      ],
      "source": [
        "x_test.shape"
      ]
    },
    {
      "cell_type": "code",
      "execution_count": null,
      "id": "57e9f943-5492-48ae-b0e7-aa162db2f322",
      "metadata": {
        "id": "57e9f943-5492-48ae-b0e7-aa162db2f322"
      },
      "outputs": [],
      "source": [
        "#Logistic Regression"
      ]
    },
    {
      "cell_type": "code",
      "execution_count": null,
      "id": "da222b72-f38b-47c4-9c53-6084a3d4f6ec",
      "metadata": {
        "id": "da222b72-f38b-47c4-9c53-6084a3d4f6ec",
        "outputId": "7564f255-0b17-4122-a5c2-562093392c10"
      },
      "outputs": [
        {
          "name": "stderr",
          "output_type": "stream",
          "text": [
            "C:\\Users\\Sunith\\AppData\\Local\\Programs\\Python\\Python312\\Lib\\site-packages\\sklearn\\linear_model\\_logistic.py:470: ConvergenceWarning: lbfgs failed to converge after 100 iteration(s) (status=1):\n",
            "STOP: TOTAL NO. OF ITERATIONS REACHED LIMIT\n",
            "\n",
            "Increase the number of iterations to improve the convergence (max_iter=100).\n",
            "You might also want to scale the data as shown in:\n",
            "    https://scikit-learn.org/stable/modules/preprocessing.html\n",
            "Please also refer to the documentation for alternative solver options:\n",
            "    https://scikit-learn.org/stable/modules/linear_model.html#logistic-regression\n",
            "  n_iter_i = _check_optimize_result(\n"
          ]
        }
      ],
      "source": [
        "lr = LogisticRegression(class_weight = 'balanced')\n",
        "lr.fit(x_train,y_train)\n",
        "y_pred = lr.predict(x_test)"
      ]
    },
    {
      "cell_type": "code",
      "execution_count": null,
      "id": "c578d86a-dbef-4957-9889-4233da23ebfe",
      "metadata": {
        "id": "c578d86a-dbef-4957-9889-4233da23ebfe",
        "outputId": "ad4deecf-6c21-4269-e4d5-d71783cc58f7"
      },
      "outputs": [
        {
          "data": {
            "text/plain": [
              "0.7272727272727273"
            ]
          },
          "execution_count": 26,
          "metadata": {},
          "output_type": "execute_result"
        }
      ],
      "source": [
        "accuracy_score(y_test,y_pred)"
      ]
    },
    {
      "cell_type": "code",
      "execution_count": null,
      "id": "f258071c-7dcb-4e3d-acdd-745d487dc937",
      "metadata": {
        "id": "f258071c-7dcb-4e3d-acdd-745d487dc937",
        "outputId": "fa0bbb6a-3777-45d4-f79a-55510b062df0"
      },
      "outputs": [
        {
          "data": {
            "text/plain": [
              "0.7638436482084691"
            ]
          },
          "execution_count": 28,
          "metadata": {},
          "output_type": "execute_result"
        }
      ],
      "source": [
        "accuracy_score(y_train,lr.predict(x_train))"
      ]
    },
    {
      "cell_type": "code",
      "execution_count": null,
      "id": "7345f6fe-ac11-4687-bf0d-9f62fc3d4100",
      "metadata": {
        "id": "7345f6fe-ac11-4687-bf0d-9f62fc3d4100",
        "outputId": "c16ae512-d6c9-4510-dbf9-81963f26c771"
      },
      "outputs": [
        {
          "data": {
            "application/javascript": [
              "\n",
              "        if (window._pyforest_update_imports_cell) { window._pyforest_update_imports_cell('import pandas as pd'); }\n",
              "    "
            ],
            "text/plain": [
              "<IPython.core.display.Javascript object>"
            ]
          },
          "metadata": {},
          "output_type": "display_data"
        },
        {
          "data": {
            "application/javascript": [
              "\n",
              "        if (window._pyforest_update_imports_cell) { window._pyforest_update_imports_cell('import pandas as pd\\nimport seaborn as sns'); }\n",
              "    "
            ],
            "text/plain": [
              "<IPython.core.display.Javascript object>"
            ]
          },
          "metadata": {},
          "output_type": "display_data"
        },
        {
          "data": {
            "text/plain": [
              "<Axes: >"
            ]
          },
          "execution_count": 29,
          "metadata": {},
          "output_type": "execute_result"
        },
        {
          "data": {
            "image/png": "[encoded data removed]",
            "text/plain": [
              "<Figure size 640x480 with 1 Axes>"
            ]
          },
          "metadata": {},
          "output_type": "display_data"
        }
      ],
      "source": [
        "cm = confusion_matrix(y_test, y_pred)\n",
        "cm_df = pd.DataFrame(data=cm,columns=['0','1'],index=['0','1'])\n",
        "sns.heatmap(cm_df,annot=True,cbar=False,fmt='d')"
      ]
    },
    {
      "cell_type": "code",
      "execution_count": null,
      "id": "b78cfcdf-02fe-417a-96c0-f2b84d7f8f32",
      "metadata": {
        "id": "b78cfcdf-02fe-417a-96c0-f2b84d7f8f32"
      },
      "outputs": [],
      "source": [
        "cv= cross_validate(lr, x, y, cv=5,n_jobs=-1, scoring = 'accuracy')"
      ]
    },
    {
      "cell_type": "code",
      "execution_count": null,
      "id": "7416bfee-aa20-4735-a944-4e4566b0ab06",
      "metadata": {
        "id": "7416bfee-aa20-4735-a944-4e4566b0ab06",
        "outputId": "b32621b9-d403-4379-a839-0e7fd6d0e4b0"
      },
      "outputs": [
        {
          "data": {
            "text/plain": [
              "{'fit_time': array([0.02412868, 0.03125238, 0.03125238, 0.02564383, 0.02777505]),\n",
              " 'score_time': array([0.        , 0.        , 0.        , 0.01562047, 0.        ]),\n",
              " 'test_score': array([0.74025974, 0.70779221, 0.74675325, 0.83006536, 0.75816993])}"
            ]
          },
          "execution_count": 32,
          "metadata": {},
          "output_type": "execute_result"
        }
      ],
      "source": [
        "cv"
      ]
    },
    {
      "cell_type": "code",
      "execution_count": null,
      "id": "92b69743-eda6-461b-8b3c-73341b3c3a66",
      "metadata": {
        "id": "92b69743-eda6-461b-8b3c-73341b3c3a66",
        "outputId": "4bfe1137-d20d-46ec-f0cb-5d7d82879652"
      },
      "outputs": [
        {
          "data": {
            "text/plain": [
              "array([0.74025974, 0.70779221, 0.74675325, 0.83006536, 0.75816993])"
            ]
          },
          "execution_count": 33,
          "metadata": {},
          "output_type": "execute_result"
        }
      ],
      "source": [
        "cv['test_score']"
      ]
    },
    {
      "cell_type": "code",
      "execution_count": null,
      "id": "c066d7ef-8f34-4296-aca4-941b7cf0e0f8",
      "metadata": {
        "id": "c066d7ef-8f34-4296-aca4-941b7cf0e0f8",
        "outputId": "cd95559f-bb65-4fc9-c019-0dd83ccdc46f"
      },
      "outputs": [
        {
          "data": {
            "text/plain": [
              "0.7566080977845684"
            ]
          },
          "execution_count": 34,
          "metadata": {},
          "output_type": "execute_result"
        }
      ],
      "source": [
        "cv['test_score'].mean()"
      ]
    },
    {
      "cell_type": "code",
      "execution_count": null,
      "id": "bda3efc7-3d03-4d42-8501-96506bcf2da4",
      "metadata": {
        "id": "bda3efc7-3d03-4d42-8501-96506bcf2da4"
      },
      "outputs": [],
      "source": [
        "KNN"
      ]
    },
    {
      "cell_type": "code",
      "execution_count": null,
      "id": "df81cc74-a855-4ce5-a62d-46ce9e0c7c85",
      "metadata": {
        "id": "df81cc74-a855-4ce5-a62d-46ce9e0c7c85"
      },
      "outputs": [],
      "source": [
        "knn = KNeighborsClassifier()\n",
        "knn.fit(x_train, y_train)\n",
        "y_pred = knn.predict(x_test)"
      ]
    },
    {
      "cell_type": "code",
      "execution_count": null,
      "id": "7cc4c5e3-e42d-449d-abe8-977df5e92f8d",
      "metadata": {
        "id": "7cc4c5e3-e42d-449d-abe8-977df5e92f8d",
        "outputId": "6ab4af14-4b86-442b-8aa6-70dae9311674"
      },
      "outputs": [
        {
          "data": {
            "text/plain": [
              "0.6948051948051948"
            ]
          },
          "execution_count": 36,
          "metadata": {},
          "output_type": "execute_result"
        }
      ],
      "source": [
        "accuracy_score(y_test,y_pred)"
      ]
    },
    {
      "cell_type": "code",
      "execution_count": null,
      "id": "0a368346-7e2d-4efd-b768-c9252d1a93ad",
      "metadata": {
        "id": "0a368346-7e2d-4efd-b768-c9252d1a93ad",
        "outputId": "4598c77e-4279-4f9b-ee15-b662fff7ea45"
      },
      "outputs": [
        {
          "data": {
            "text/plain": [
              "0.7899022801302932"
            ]
          },
          "execution_count": 38,
          "metadata": {},
          "output_type": "execute_result"
        }
      ],
      "source": [
        "accuracy_score(y_train,knn.predict(x_train))"
      ]
    },
    {
      "cell_type": "code",
      "execution_count": null,
      "id": "1b13d67c-6293-490b-8c29-758c52054902",
      "metadata": {
        "id": "1b13d67c-6293-490b-8c29-758c52054902",
        "outputId": "2691c1fc-dd24-42ce-bbb4-2d4a72d2a20f"
      },
      "outputs": [
        {
          "data": {
            "application/javascript": [
              "\n",
              "        if (window._pyforest_update_imports_cell) { window._pyforest_update_imports_cell('import pandas as pd\\nimport seaborn as sns'); }\n",
              "    "
            ],
            "text/plain": [
              "<IPython.core.display.Javascript object>"
            ]
          },
          "metadata": {},
          "output_type": "display_data"
        },
        {
          "data": {
            "application/javascript": [
              "\n",
              "        if (window._pyforest_update_imports_cell) { window._pyforest_update_imports_cell('import pandas as pd\\nimport seaborn as sns'); }\n",
              "    "
            ],
            "text/plain": [
              "<IPython.core.display.Javascript object>"
            ]
          },
          "metadata": {},
          "output_type": "display_data"
        },
        {
          "data": {
            "application/javascript": [
              "\n",
              "        if (window._pyforest_update_imports_cell) { window._pyforest_update_imports_cell('import pandas as pd\\nimport seaborn as sns\\nimport matplotlib.pyplot as plt'); }\n",
              "    "
            ],
            "text/plain": [
              "<IPython.core.display.Javascript object>"
            ]
          },
          "metadata": {},
          "output_type": "display_data"
        },
        {
          "data": {
            "image/png": "[encoded data removed]",
            "text/plain": [
              "<Figure size 640x480 with 1 Axes>"
            ]
          },
          "metadata": {},
          "output_type": "display_data"
        }
      ],
      "source": [
        "cm = confusion_matrix(y_test, y_pred)\n",
        "cm_df = pd.DataFrame(data = cm, columns=['0',1],index=['0','1'])\n",
        "sns.heatmap(cm_df, annot=True, cbar=False, fmt='d')\n",
        "plt.show()"
      ]
    },
    {
      "cell_type": "code",
      "execution_count": null,
      "id": "79e0a436-eb8d-4cf8-84f8-f5945fadcde3",
      "metadata": {
        "id": "79e0a436-eb8d-4cf8-84f8-f5945fadcde3"
      },
      "outputs": [],
      "source": [
        "cv = cross_validate(knn,x,y,cv=5,n_jobs=-1,scoring = 'accuracy')"
      ]
    },
    {
      "cell_type": "code",
      "execution_count": null,
      "id": "075889d3-874b-4a1b-8ff9-6082bdd2f411",
      "metadata": {
        "id": "075889d3-874b-4a1b-8ff9-6082bdd2f411",
        "outputId": "3bc33b7a-4c4a-4db5-f21e-a925fcfcf0e6"
      },
      "outputs": [
        {
          "data": {
            "text/plain": [
              "array([0.74025974, 0.70779221, 0.74675325, 0.83006536, 0.75816993])"
            ]
          },
          "execution_count": 40,
          "metadata": {},
          "output_type": "execute_result"
        }
      ],
      "source": [
        "cv['test_score']"
      ]
    },
    {
      "cell_type": "code",
      "execution_count": null,
      "id": "e8cdc5c2-e606-4dbf-a7e0-7917e6c1457c",
      "metadata": {
        "id": "e8cdc5c2-e606-4dbf-a7e0-7917e6c1457c",
        "outputId": "0b2f9759-d146-4645-d84d-8f02179ce225"
      },
      "outputs": [
        {
          "data": {
            "text/plain": [
              "0.7566080977845684"
            ]
          },
          "execution_count": 41,
          "metadata": {},
          "output_type": "execute_result"
        }
      ],
      "source": [
        "cv['test_score'].mean()"
      ]
    },
    {
      "cell_type": "code",
      "execution_count": null,
      "id": "b4f87d53-b5cb-4e1f-8171-0a772b96bf9f",
      "metadata": {
        "id": "b4f87d53-b5cb-4e1f-8171-0a772b96bf9f",
        "outputId": "e3743364-c197-442f-a2db-b7966d743a07"
      },
      "outputs": [
        {
          "data": {
            "text/plain": [
              "array([ 1.   , 85.   , 66.   , 29.   ,  0.   , 26.6  ,  0.351, 31.   ])"
            ]
          },
          "execution_count": 42,
          "metadata": {},
          "output_type": "execute_result"
        }
      ],
      "source": [
        "x[1]"
      ]
    },
    {
      "cell_type": "code",
      "execution_count": null,
      "id": "26cbbdfb-0b44-4b7f-ad08-843c0cb16eb7",
      "metadata": {
        "id": "26cbbdfb-0b44-4b7f-ad08-843c0cb16eb7"
      },
      "outputs": [],
      "source": [
        "std = StandardScaler()\n",
        "data = std.fit_transform(x)"
      ]
    },
    {
      "cell_type": "code",
      "execution_count": null,
      "id": "4858e942-8856-4413-9ea6-31bec5e1e5a3",
      "metadata": {
        "id": "4858e942-8856-4413-9ea6-31bec5e1e5a3",
        "outputId": "a7f5d3a1-46b0-48b6-eac1-2a5225218376"
      },
      "outputs": [
        {
          "data": {
            "text/plain": [
              "array([-0.84488505, -1.12339636, -0.16054575,  0.53090156, -0.69289057,\n",
              "       -0.68442195, -0.36506078, -0.19067191])"
            ]
          },
          "execution_count": 46,
          "metadata": {},
          "output_type": "execute_result"
        }
      ],
      "source": [
        "data[1]"
      ]
    },
    {
      "cell_type": "code",
      "execution_count": null,
      "id": "1cf3c574-aedf-4585-af97-03cdcddf6fe3",
      "metadata": {
        "id": "1cf3c574-aedf-4585-af97-03cdcddf6fe3"
      },
      "outputs": [],
      "source": [
        "x_train,x_test,y_train,y_test = train_test_split(data,y,test_size=0.2,random_state=100)"
      ]
    },
    {
      "cell_type": "code",
      "execution_count": null,
      "id": "f97eb05c-bf57-44a8-9735-fbf5a3674559",
      "metadata": {
        "id": "f97eb05c-bf57-44a8-9735-fbf5a3674559",
        "outputId": "79d879fa-1300-4616-cf8e-94ddb92c5172"
      },
      "outputs": [
        {
          "data": {
            "text/plain": [
              "(614, 8)"
            ]
          },
          "execution_count": 50,
          "metadata": {},
          "output_type": "execute_result"
        }
      ],
      "source": [
        "x_train.shape"
      ]
    },
    {
      "cell_type": "code",
      "execution_count": null,
      "id": "e9256607-5c05-44ba-bfd2-5198cbe494f0",
      "metadata": {
        "id": "e9256607-5c05-44ba-bfd2-5198cbe494f0",
        "outputId": "5f71c969-4250-4e1e-d645-d168fb0cf9f6"
      },
      "outputs": [
        {
          "data": {
            "text/plain": [
              "(154,)"
            ]
          },
          "execution_count": 51,
          "metadata": {},
          "output_type": "execute_result"
        }
      ],
      "source": [
        "y_test.shape"
      ]
    },
    {
      "cell_type": "code",
      "execution_count": null,
      "id": "3b00aac5-47e1-483a-9106-9bfe2d3a0618",
      "metadata": {
        "id": "3b00aac5-47e1-483a-9106-9bfe2d3a0618"
      },
      "outputs": [],
      "source": [
        "knn = KNeighborsClassifier()\n",
        "knn.fit(x_train,y_train)\n",
        "y_pred = knn.predict(x_test)"
      ]
    },
    {
      "cell_type": "code",
      "execution_count": null,
      "id": "6ff35b92-8273-4f1f-b8f7-2d462522ea8f",
      "metadata": {
        "id": "6ff35b92-8273-4f1f-b8f7-2d462522ea8f",
        "outputId": "95878664-5590-442b-e88d-b8af421750ab"
      },
      "outputs": [
        {
          "data": {
            "text/plain": [
              "0.6753246753246753"
            ]
          },
          "execution_count": 53,
          "metadata": {},
          "output_type": "execute_result"
        }
      ],
      "source": [
        "accuracy_score(y_test,y_pred)"
      ]
    },
    {
      "cell_type": "code",
      "execution_count": null,
      "id": "96566760-5368-4cc7-b2af-840e8df6f8a0",
      "metadata": {
        "id": "96566760-5368-4cc7-b2af-840e8df6f8a0"
      },
      "outputs": [],
      "source": [
        "cv = cross_validate(knn,data, y, cv=5, n_jobs=-1)"
      ]
    },
    {
      "cell_type": "code",
      "execution_count": null,
      "id": "c49ed64d-71e6-4612-80f2-f87b17bc327a",
      "metadata": {
        "id": "c49ed64d-71e6-4612-80f2-f87b17bc327a",
        "outputId": "e1da95d2-6c85-456a-9569-c75b663a5998"
      },
      "outputs": [
        {
          "data": {
            "text/plain": [
              "array([0.72077922, 0.73376623, 0.71428571, 0.77124183, 0.7254902 ])"
            ]
          },
          "execution_count": 55,
          "metadata": {},
          "output_type": "execute_result"
        }
      ],
      "source": [
        "cv['test_score']"
      ]
    },
    {
      "cell_type": "code",
      "execution_count": null,
      "id": "62eaa311-2f8f-4ffe-ad13-3cb5d602e56a",
      "metadata": {
        "id": "62eaa311-2f8f-4ffe-ad13-3cb5d602e56a",
        "outputId": "63d53026-b6f5-4e59-d46c-574df269c7be"
      },
      "outputs": [
        {
          "data": {
            "text/plain": [
              "0.733112638994992"
            ]
          },
          "execution_count": 56,
          "metadata": {},
          "output_type": "execute_result"
        }
      ],
      "source": [
        "cv['test_score'].mean()"
      ]
    },
    {
      "cell_type": "code",
      "execution_count": null,
      "id": "accaffe4-716f-4576-b40a-8791da5de6b6",
      "metadata": {
        "id": "accaffe4-716f-4576-b40a-8791da5de6b6"
      },
      "outputs": [],
      "source": []
    }
  ],
  "metadata": {
    "kernelspec": {
      "display_name": "Python 3 (ipykernel)",
      "language": "python",
      "name": "python3"
    },
    "language_info": {
      "codemirror_mode": {
        "name": "ipython",
        "version": 3
      },
      "file_extension": ".py",
      "mimetype": "text/x-python",
      "name": "python",
      "nbconvert_exporter": "python",
      "pygments_lexer": "ipython3",
      "version": "3.12.10"
    },
    "colab": {
      "provenance": [],
      "include_colab_link": true
    }
  },
  "nbformat": 4,
  "nbformat_minor": 5
}