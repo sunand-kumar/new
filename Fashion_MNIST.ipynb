{
  "cells": [
    {
      "cell_type": "markdown",
      "metadata": {
        "id": "view-in-github",
        "colab_type": "text"
      },
      "source": [
        "<a href=\"https://colab.research.google.com/github/sunand-kumar/new/blob/master/Fashion_MNIST.ipynb\" target=\"_parent\"><img src=\"https://colab.research.google.com/assets/colab-badge.svg\" alt=\"Open In Colab\"/></a>"
      ]
    },
    {
      "cell_type": "code",
      "execution_count": null,
      "metadata": {
        "id": "2nSlbj3TySaJ"
      },
      "outputs": [],
      "source": [
        "import pandas as pd\n",
        "import numpy as np"
      ]
    },
    {
      "cell_type": "code",
      "execution_count": null,
      "metadata": {
        "id": "XjGC---wySaO"
      },
      "outputs": [],
      "source": [
        "from tensorflow.keras.datasets import fashion_mnist\n",
        "(x_train,y_train),(x_test,y_test) = fashion_mnist.load_data()"
      ]
    },
    {
      "cell_type": "code",
      "execution_count": null,
      "metadata": {
        "id": "ItX1y1GIySaP"
      },
      "outputs": [],
      "source": [
        "import matplotlib.pyplot as plt"
      ]
    },
    {
      "cell_type": "code",
      "execution_count": null,
      "metadata": {
        "id": "ReBJXYyIySaQ",
        "outputId": "25602115-dbee-429e-fea8-c8d324e046cf"
      },
      "outputs": [
        {
          "data": {
            "text/plain": [
              "(60000, 28, 28)"
            ]
          },
          "execution_count": 4,
          "metadata": {},
          "output_type": "execute_result"
        }
      ],
      "source": [
        "x_train.shape"
      ]
    },
    {
      "cell_type": "code",
      "execution_count": null,
      "metadata": {
        "id": "rGM05FmRySaU",
        "outputId": "da731f71-e2fe-42e1-eae1-daa7c44ea1b0"
      },
      "outputs": [
        {
          "data": {
            "text/plain": [
              "(10000, 28, 28)"
            ]
          },
          "execution_count": 5,
          "metadata": {},
          "output_type": "execute_result"
        }
      ],
      "source": [
        "x_test.shape"
      ]
    },
    {
      "cell_type": "code",
      "execution_count": null,
      "metadata": {
        "id": "bOfeUqyeySaV"
      },
      "outputs": [],
      "source": [
        "single_image = x_train[0]"
      ]
    },
    {
      "cell_type": "code",
      "execution_count": null,
      "metadata": {
        "id": "IsQ40cuLySaW",
        "outputId": "2b8d940c-1eaa-46c6-97f6-5d5e6890d922"
      },
      "outputs": [
        {
          "data": {
            "text/plain": [
              "array([[  0,   0,   0,   0,   0,   0,   0,   0,   0,   0,   0,   0,   0,\n",
              "          0,   0,   0,   0,   0,   0,   0,   0,   0,   0,   0,   0,   0,\n",
              "          0,   0],\n",
              "       [  0,   0,   0,   0,   0,   0,   0,   0,   0,   0,   0,   0,   0,\n",
              "          0,   0,   0,   0,   0,   0,   0,   0,   0,   0,   0,   0,   0,\n",
              "          0,   0],\n",
              "       [  0,   0,   0,   0,   0,   0,   0,   0,   0,   0,   0,   0,   0,\n",
              "          0,   0,   0,   0,   0,   0,   0,   0,   0,   0,   0,   0,   0,\n",
              "          0,   0],\n",
              "       [  0,   0,   0,   0,   0,   0,   0,   0,   0,   0,   0,   0,   1,\n",
              "          0,   0,  13,  73,   0,   0,   1,   4,   0,   0,   0,   0,   1,\n",
              "          1,   0],\n",
              "       [  0,   0,   0,   0,   0,   0,   0,   0,   0,   0,   0,   0,   3,\n",
              "          0,  36, 136, 127,  62,  54,   0,   0,   0,   1,   3,   4,   0,\n",
              "          0,   3],\n",
              "       [  0,   0,   0,   0,   0,   0,   0,   0,   0,   0,   0,   0,   6,\n",
              "          0, 102, 204, 176, 134, 144, 123,  23,   0,   0,   0,   0,  12,\n",
              "         10,   0],\n",
              "       [  0,   0,   0,   0,   0,   0,   0,   0,   0,   0,   0,   0,   0,\n",
              "          0, 155, 236, 207, 178, 107, 156, 161, 109,  64,  23,  77, 130,\n",
              "         72,  15],\n",
              "       [  0,   0,   0,   0,   0,   0,   0,   0,   0,   0,   0,   1,   0,\n",
              "         69, 207, 223, 218, 216, 216, 163, 127, 121, 122, 146, 141,  88,\n",
              "        172,  66],\n",
              "       [  0,   0,   0,   0,   0,   0,   0,   0,   0,   1,   1,   1,   0,\n",
              "        200, 232, 232, 233, 229, 223, 223, 215, 213, 164, 127, 123, 196,\n",
              "        229,   0],\n",
              "       [  0,   0,   0,   0,   0,   0,   0,   0,   0,   0,   0,   0,   0,\n",
              "        183, 225, 216, 223, 228, 235, 227, 224, 222, 224, 221, 223, 245,\n",
              "        173,   0],\n",
              "       [  0,   0,   0,   0,   0,   0,   0,   0,   0,   0,   0,   0,   0,\n",
              "        193, 228, 218, 213, 198, 180, 212, 210, 211, 213, 223, 220, 243,\n",
              "        202,   0],\n",
              "       [  0,   0,   0,   0,   0,   0,   0,   0,   0,   1,   3,   0,  12,\n",
              "        219, 220, 212, 218, 192, 169, 227, 208, 218, 224, 212, 226, 197,\n",
              "        209,  52],\n",
              "       [  0,   0,   0,   0,   0,   0,   0,   0,   0,   0,   6,   0,  99,\n",
              "        244, 222, 220, 218, 203, 198, 221, 215, 213, 222, 220, 245, 119,\n",
              "        167,  56],\n",
              "       [  0,   0,   0,   0,   0,   0,   0,   0,   0,   4,   0,   0,  55,\n",
              "        236, 228, 230, 228, 240, 232, 213, 218, 223, 234, 217, 217, 209,\n",
              "         92,   0],\n",
              "       [  0,   0,   1,   4,   6,   7,   2,   0,   0,   0,   0,   0, 237,\n",
              "        226, 217, 223, 222, 219, 222, 221, 216, 223, 229, 215, 218, 255,\n",
              "         77,   0],\n",
              "       [  0,   3,   0,   0,   0,   0,   0,   0,   0,  62, 145, 204, 228,\n",
              "        207, 213, 221, 218, 208, 211, 218, 224, 223, 219, 215, 224, 244,\n",
              "        159,   0],\n",
              "       [  0,   0,   0,   0,  18,  44,  82, 107, 189, 228, 220, 222, 217,\n",
              "        226, 200, 205, 211, 230, 224, 234, 176, 188, 250, 248, 233, 238,\n",
              "        215,   0],\n",
              "       [  0,  57, 187, 208, 224, 221, 224, 208, 204, 214, 208, 209, 200,\n",
              "        159, 245, 193, 206, 223, 255, 255, 221, 234, 221, 211, 220, 232,\n",
              "        246,   0],\n",
              "       [  3, 202, 228, 224, 221, 211, 211, 214, 205, 205, 205, 220, 240,\n",
              "         80, 150, 255, 229, 221, 188, 154, 191, 210, 204, 209, 222, 228,\n",
              "        225,   0],\n",
              "       [ 98, 233, 198, 210, 222, 229, 229, 234, 249, 220, 194, 215, 217,\n",
              "        241,  65,  73, 106, 117, 168, 219, 221, 215, 217, 223, 223, 224,\n",
              "        229,  29],\n",
              "       [ 75, 204, 212, 204, 193, 205, 211, 225, 216, 185, 197, 206, 198,\n",
              "        213, 240, 195, 227, 245, 239, 223, 218, 212, 209, 222, 220, 221,\n",
              "        230,  67],\n",
              "       [ 48, 203, 183, 194, 213, 197, 185, 190, 194, 192, 202, 214, 219,\n",
              "        221, 220, 236, 225, 216, 199, 206, 186, 181, 177, 172, 181, 205,\n",
              "        206, 115],\n",
              "       [  0, 122, 219, 193, 179, 171, 183, 196, 204, 210, 213, 207, 211,\n",
              "        210, 200, 196, 194, 191, 195, 191, 198, 192, 176, 156, 167, 177,\n",
              "        210,  92],\n",
              "       [  0,   0,  74, 189, 212, 191, 175, 172, 175, 181, 185, 188, 189,\n",
              "        188, 193, 198, 204, 209, 210, 210, 211, 188, 188, 194, 192, 216,\n",
              "        170,   0],\n",
              "       [  2,   0,   0,   0,  66, 200, 222, 237, 239, 242, 246, 243, 244,\n",
              "        221, 220, 193, 191, 179, 182, 182, 181, 176, 166, 168,  99,  58,\n",
              "          0,   0],\n",
              "       [  0,   0,   0,   0,   0,   0,   0,  40,  61,  44,  72,  41,  35,\n",
              "          0,   0,   0,   0,   0,   0,   0,   0,   0,   0,   0,   0,   0,\n",
              "          0,   0],\n",
              "       [  0,   0,   0,   0,   0,   0,   0,   0,   0,   0,   0,   0,   0,\n",
              "          0,   0,   0,   0,   0,   0,   0,   0,   0,   0,   0,   0,   0,\n",
              "          0,   0],\n",
              "       [  0,   0,   0,   0,   0,   0,   0,   0,   0,   0,   0,   0,   0,\n",
              "          0,   0,   0,   0,   0,   0,   0,   0,   0,   0,   0,   0,   0,\n",
              "          0,   0]], dtype=uint8)"
            ]
          },
          "execution_count": 7,
          "metadata": {},
          "output_type": "execute_result"
        }
      ],
      "source": [
        "single_image"
      ]
    },
    {
      "cell_type": "code",
      "execution_count": null,
      "metadata": {
        "id": "BQTDVWd2ySaX",
        "outputId": "d52af44b-d7ba-4a80-9943-e8b42e229ca8"
      },
      "outputs": [
        {
          "data": {
            "text/plain": [
              "(28, 28)"
            ]
          },
          "execution_count": 8,
          "metadata": {},
          "output_type": "execute_result"
        }
      ],
      "source": [
        "single_image.shape"
      ]
    },
    {
      "cell_type": "code",
      "execution_count": null,
      "metadata": {
        "id": "hcalxW-eySaY",
        "outputId": "c551c410-13fb-44db-f814-d0cd0ec22c07"
      },
      "outputs": [
        {
          "data": {
            "text/plain": [
              "255"
            ]
          },
          "execution_count": 9,
          "metadata": {},
          "output_type": "execute_result"
        }
      ],
      "source": [
        "single_image.max()"
      ]
    },
    {
      "cell_type": "code",
      "execution_count": null,
      "metadata": {
        "id": "BuKNGeUxySaZ",
        "outputId": "f94e57d7-916f-4d61-8d77-b451fa010457"
      },
      "outputs": [
        {
          "data": {
            "text/plain": [
              "0"
            ]
          },
          "execution_count": 10,
          "metadata": {},
          "output_type": "execute_result"
        }
      ],
      "source": [
        "single_image.min()"
      ]
    },
    {
      "cell_type": "code",
      "execution_count": null,
      "metadata": {
        "id": "kgyQn-TQySaa",
        "outputId": "edbda3d7-9475-4156-fd80-eed8208240df"
      },
      "outputs": [
        {
          "data": {
            "text/plain": [
              "<matplotlib.image.AxesImage at 0x303f59350>"
            ]
          },
          "execution_count": 11,
          "metadata": {},
          "output_type": "execute_result"
        },
        {
          "data": {
            "image/png": "[encoded data removed]",
            "text/plain": [
              "<Figure size 640x480 with 1 Axes>"
            ]
          },
          "metadata": {},
          "output_type": "display_data"
        }
      ],
      "source": [
        "plt.imshow(single_image)"
      ]
    },
    {
      "cell_type": "code",
      "execution_count": null,
      "metadata": {
        "id": "3TP4w8vDySab",
        "outputId": "b79777ae-c5c5-47cf-b00e-0c7c94c6151a"
      },
      "outputs": [
        {
          "data": {
            "text/plain": [
              "array([9, 0, 0, ..., 3, 0, 5], dtype=uint8)"
            ]
          },
          "execution_count": 12,
          "metadata": {},
          "output_type": "execute_result"
        }
      ],
      "source": [
        "y_train"
      ]
    },
    {
      "cell_type": "code",
      "execution_count": null,
      "metadata": {
        "id": "CEzJOj71ySab",
        "outputId": "97948a64-05b8-42bd-b778-d0c8d4bf2974"
      },
      "outputs": [
        {
          "data": {
            "text/plain": [
              "(60000,)"
            ]
          },
          "execution_count": 13,
          "metadata": {},
          "output_type": "execute_result"
        }
      ],
      "source": [
        "y_train.shape"
      ]
    },
    {
      "cell_type": "code",
      "execution_count": null,
      "metadata": {
        "id": "OmzViaVTySac",
        "outputId": "9cb1bb24-af1c-48ca-e2a4-72b2bdaa5d95"
      },
      "outputs": [
        {
          "data": {
            "text/plain": [
              "array([9, 2, 1, ..., 8, 1, 5], dtype=uint8)"
            ]
          },
          "execution_count": 14,
          "metadata": {},
          "output_type": "execute_result"
        }
      ],
      "source": [
        "y_test"
      ]
    },
    {
      "cell_type": "code",
      "execution_count": null,
      "metadata": {
        "id": "S_kAQuf9ySad",
        "outputId": "b663c66e-5aa9-464c-f2c9-55456cc35298"
      },
      "outputs": [
        {
          "data": {
            "text/plain": [
              "(10000,)"
            ]
          },
          "execution_count": 15,
          "metadata": {},
          "output_type": "execute_result"
        }
      ],
      "source": [
        "y_test.shape"
      ]
    },
    {
      "cell_type": "code",
      "execution_count": null,
      "metadata": {
        "id": "8M3qxSr1ySae"
      },
      "outputs": [],
      "source": [
        "from tensorflow.keras.utils import to_categorical"
      ]
    },
    {
      "cell_type": "code",
      "execution_count": null,
      "metadata": {
        "id": "02BNKNg2ySaf"
      },
      "outputs": [],
      "source": [
        "y_cat_train = to_categorical(y_train)"
      ]
    },
    {
      "cell_type": "code",
      "execution_count": null,
      "metadata": {
        "id": "Z_mTYb58ySaf",
        "outputId": "7538a4a5-cb3c-4541-88b1-0744ad535390"
      },
      "outputs": [
        {
          "data": {
            "text/plain": [
              "array([0., 0., 0., 0., 0., 0., 0., 0., 0., 1.], dtype=float32)"
            ]
          },
          "execution_count": 18,
          "metadata": {},
          "output_type": "execute_result"
        }
      ],
      "source": [
        "y_cat_train[0]"
      ]
    },
    {
      "cell_type": "code",
      "execution_count": null,
      "metadata": {
        "id": "fHqxYEJ7ySag",
        "outputId": "0a509733-a088-4be5-a6a1-b2857620ede8"
      },
      "outputs": [
        {
          "data": {
            "text/plain": [
              "(60000, 10)"
            ]
          },
          "execution_count": 19,
          "metadata": {},
          "output_type": "execute_result"
        }
      ],
      "source": [
        "y_cat_train.shape"
      ]
    },
    {
      "cell_type": "code",
      "execution_count": null,
      "metadata": {
        "id": "xOyc21feySah"
      },
      "outputs": [],
      "source": [
        "y_cat_test = to_categorical(y_test)"
      ]
    },
    {
      "cell_type": "code",
      "execution_count": null,
      "metadata": {
        "id": "yMsGAwI-ySah",
        "outputId": "29b63c63-36bb-42a9-cfa1-cbaa483f7b39"
      },
      "outputs": [
        {
          "data": {
            "text/plain": [
              "array([0., 0., 0., 0., 0., 0., 0., 0., 0., 1.], dtype=float32)"
            ]
          },
          "execution_count": 21,
          "metadata": {},
          "output_type": "execute_result"
        }
      ],
      "source": [
        "y_cat_test[0]"
      ]
    },
    {
      "cell_type": "code",
      "execution_count": null,
      "metadata": {
        "id": "Y_dKJjiqySai",
        "outputId": "9a98bc67-4ce9-4b04-d559-b823fc3784a7"
      },
      "outputs": [
        {
          "data": {
            "text/plain": [
              "(10000, 10)"
            ]
          },
          "execution_count": 22,
          "metadata": {},
          "output_type": "execute_result"
        }
      ],
      "source": [
        "y_cat_test.shape"
      ]
    },
    {
      "cell_type": "code",
      "execution_count": null,
      "metadata": {
        "id": "tA8hgHPSySai"
      },
      "outputs": [],
      "source": [
        "#Normalize the data\n",
        "x_train = x_train/255\n",
        "x_test = x_test/255"
      ]
    },
    {
      "cell_type": "code",
      "execution_count": null,
      "metadata": {
        "id": "-CNhvKxvySaj",
        "outputId": "924acf1d-e5ab-42f4-958c-005dd2d9f865"
      },
      "outputs": [
        {
          "data": {
            "text/plain": [
              "1.0"
            ]
          },
          "execution_count": 24,
          "metadata": {},
          "output_type": "execute_result"
        }
      ],
      "source": [
        "x_train[0].max()"
      ]
    },
    {
      "cell_type": "code",
      "execution_count": null,
      "metadata": {
        "id": "c4hyyYsCySak",
        "outputId": "5af5201f-f404-4c86-91bd-0a733be10bae"
      },
      "outputs": [
        {
          "data": {
            "text/plain": [
              "0.0"
            ]
          },
          "execution_count": 25,
          "metadata": {},
          "output_type": "execute_result"
        }
      ],
      "source": [
        "x_train[0].min()"
      ]
    },
    {
      "cell_type": "code",
      "execution_count": null,
      "metadata": {
        "id": "XpOPC-nXySal",
        "outputId": "ce7b4ea9-c539-4fa0-9cd7-688ef8f53667"
      },
      "outputs": [
        {
          "data": {
            "text/plain": [
              "<matplotlib.image.AxesImage at 0x30400e2d0>"
            ]
          },
          "execution_count": 26,
          "metadata": {},
          "output_type": "execute_result"
        },
        {
          "data": {
            "image/png": "[encoded data removed]",
            "text/plain": [
              "<Figure size 640x480 with 1 Axes>"
            ]
          },
          "metadata": {},
          "output_type": "display_data"
        }
      ],
      "source": [
        "plt.imshow(x_train[0])"
      ]
    },
    {
      "cell_type": "code",
      "execution_count": null,
      "metadata": {
        "id": "x8AlFUOVySal",
        "outputId": "c7900281-0ada-40c7-de31-bbe400a6ae2b"
      },
      "outputs": [
        {
          "data": {
            "text/plain": [
              "(60000, 28, 28)"
            ]
          },
          "execution_count": 27,
          "metadata": {},
          "output_type": "execute_result"
        }
      ],
      "source": [
        "x_train.shape"
      ]
    },
    {
      "cell_type": "code",
      "execution_count": null,
      "metadata": {
        "id": "Ta9SbCpvySam"
      },
      "outputs": [],
      "source": [
        "x_train = x_train.reshape(60000,28,28,1)"
      ]
    },
    {
      "cell_type": "code",
      "execution_count": null,
      "metadata": {
        "id": "-dPHj8dwySam",
        "outputId": "cf50e28b-1a18-4722-f21f-e534c6030b6e"
      },
      "outputs": [
        {
          "data": {
            "text/plain": [
              "(60000, 28, 28, 1)"
            ]
          },
          "execution_count": 29,
          "metadata": {},
          "output_type": "execute_result"
        }
      ],
      "source": [
        "x_train.shape"
      ]
    },
    {
      "cell_type": "code",
      "execution_count": null,
      "metadata": {
        "id": "p7NBiQ93ySan",
        "outputId": "4864a8f2-bac3-42aa-8c5c-93a30f5a8a4c"
      },
      "outputs": [
        {
          "data": {
            "text/plain": [
              "(10000, 28, 28)"
            ]
          },
          "execution_count": 30,
          "metadata": {},
          "output_type": "execute_result"
        }
      ],
      "source": [
        "x_test.shape"
      ]
    },
    {
      "cell_type": "code",
      "execution_count": null,
      "metadata": {
        "id": "rR-2Yk3PySan"
      },
      "outputs": [],
      "source": [
        "x_test = x_test.reshape(10000,28,28,1)"
      ]
    },
    {
      "cell_type": "code",
      "execution_count": null,
      "metadata": {
        "id": "7XM_4qrNySao",
        "outputId": "be6bafbc-ee54-4fb3-f14d-9a4f2f9324f2"
      },
      "outputs": [
        {
          "data": {
            "text/plain": [
              "(10000, 28, 28, 1)"
            ]
          },
          "execution_count": 32,
          "metadata": {},
          "output_type": "execute_result"
        }
      ],
      "source": [
        "x_test.shape"
      ]
    },
    {
      "cell_type": "code",
      "execution_count": null,
      "metadata": {
        "id": "qvDbTL0qySap"
      },
      "outputs": [],
      "source": [
        "#build the model\n",
        "import tensorflow as tf\n",
        "from tensorflow.keras.models import Sequential\n",
        "from tensorflow.keras.layers import Dense, Conv2D, MaxPool2D, Flatten, Dropout"
      ]
    },
    {
      "cell_type": "code",
      "execution_count": null,
      "metadata": {
        "id": "2wD6MqIOySaq"
      },
      "outputs": [],
      "source": [
        "model = Sequential()\n",
        "\n",
        "model.add(Conv2D(filters=32,kernel_size=(3,3),activation = 'linear',input_shape=(28,28,1),padding='same'))\n",
        "model.add(tf.keras.layers.LeakyReLU(alpha = 0.1))\n",
        "model.add(MaxPool2D(pool_size=(2,2),padding='same'))\n",
        "model.add(Conv2D(64,(3,3),activation = 'linear',padding = 'same'))\n",
        "model.add(tf.keras.layers.LeakyReLU(alpha = 0.1))\n",
        "model.add(MaxPool2D(pool_size=(2,2),padding='same'))\n",
        "model.add(Conv2D(128,(3,3),activation = 'linear',padding = 'same'))\n",
        "model.add(tf.keras.layers.LeakyReLU(alpha = 0.1))\n",
        "model.add(MaxPool2D(pool_size=(2,2),padding='same'))\n",
        "model.add(Flatten())\n",
        "model.add(Dense(128,activation = 'relu'))\n",
        "model.add(tf.keras.layers.LeakyReLU(alpha = 0.1))\n",
        "model.add(Dense(10,activation = 'softmax'))"
      ]
    },
    {
      "cell_type": "code",
      "execution_count": null,
      "metadata": {
        "id": "jCdROuIkySar",
        "outputId": "26202345-9ede-48ae-93d4-6b72c445ba6e"
      },
      "outputs": [
        {
          "name": "stdout",
          "output_type": "stream",
          "text": [
            "Model: \"sequential\"\n",
            "_________________________________________________________________\n",
            " Layer (type)                Output Shape              Param #   \n",
            "=================================================================\n",
            " conv2d (Conv2D)             (None, 28, 28, 32)        320       \n",
            "                                                                 \n",
            " leaky_re_lu (LeakyReLU)     (None, 28, 28, 32)        0         \n",
            "                                                                 \n",
            " max_pooling2d (MaxPooling2  (None, 14, 14, 32)        0         \n",
            " D)                                                              \n",
            "                                                                 \n",
            " conv2d_1 (Conv2D)           (None, 14, 14, 64)        18496     \n",
            "                                                                 \n",
            " leaky_re_lu_1 (LeakyReLU)   (None, 14, 14, 64)        0         \n",
            "                                                                 \n",
            " max_pooling2d_1 (MaxPoolin  (None, 7, 7, 64)          0         \n",
            " g2D)                                                            \n",
            "                                                                 \n",
            " conv2d_2 (Conv2D)           (None, 7, 7, 128)         73856     \n",
            "                                                                 \n",
            " leaky_re_lu_2 (LeakyReLU)   (None, 7, 7, 128)         0         \n",
            "                                                                 \n",
            " max_pooling2d_2 (MaxPoolin  (None, 4, 4, 128)         0         \n",
            " g2D)                                                            \n",
            "                                                                 \n",
            " flatten (Flatten)           (None, 2048)              0         \n",
            "                                                                 \n",
            " dense (Dense)               (None, 128)               262272    \n",
            "                                                                 \n",
            " leaky_re_lu_3 (LeakyReLU)   (None, 128)               0         \n",
            "                                                                 \n",
            " dense_1 (Dense)             (None, 10)                1290      \n",
            "                                                                 \n",
            "=================================================================\n",
            "Total params: 356234 (1.36 MB)\n",
            "Trainable params: 356234 (1.36 MB)\n",
            "Non-trainable params: 0 (0.00 Byte)\n",
            "_________________________________________________________________\n"
          ]
        }
      ],
      "source": [
        "model.summary()"
      ]
    },
    {
      "cell_type": "code",
      "execution_count": null,
      "metadata": {
        "id": "gS6NJRXjySas"
      },
      "outputs": [],
      "source": [
        "model.compile(loss = 'categorical_crossentropy', optimizer= 'adam', metrics = ['accuracy'])"
      ]
    },
    {
      "cell_type": "code",
      "execution_count": null,
      "metadata": {
        "id": "AIrfctgDySat",
        "outputId": "aa0bf21c-4ba1-4edf-cddf-66f8128f46d7"
      },
      "outputs": [
        {
          "name": "stdout",
          "output_type": "stream",
          "text": [
            "Epoch 1/30\n",
            "938/938 [==============================] - 18s 19ms/step - loss: 0.4501 - accuracy: 0.8382 - val_loss: 0.3194 - val_accuracy: 0.8807\n",
            "Epoch 2/30\n",
            "938/938 [==============================] - 18s 19ms/step - loss: 0.2748 - accuracy: 0.9003 - val_loss: 0.2752 - val_accuracy: 0.9012\n",
            "Epoch 3/30\n",
            "938/938 [==============================] - 18s 19ms/step - loss: 0.2319 - accuracy: 0.9147 - val_loss: 0.2900 - val_accuracy: 0.8917\n",
            "Epoch 4/30\n",
            "938/938 [==============================] - 18s 19ms/step - loss: 0.2049 - accuracy: 0.9246 - val_loss: 0.2383 - val_accuracy: 0.9113\n",
            "Epoch 5/30\n",
            "938/938 [==============================] - 18s 19ms/step - loss: 0.1769 - accuracy: 0.9341 - val_loss: 0.2485 - val_accuracy: 0.9074\n",
            "Epoch 6/30\n",
            "938/938 [==============================] - 19s 20ms/step - loss: 0.1564 - accuracy: 0.9414 - val_loss: 0.2337 - val_accuracy: 0.9173\n",
            "Epoch 7/30\n",
            "938/938 [==============================] - 19s 20ms/step - loss: 0.1372 - accuracy: 0.9488 - val_loss: 0.2382 - val_accuracy: 0.9177\n",
            "Epoch 8/30\n",
            "938/938 [==============================] - 19s 20ms/step - loss: 0.1174 - accuracy: 0.9565 - val_loss: 0.2607 - val_accuracy: 0.9192\n",
            "Epoch 9/30\n",
            "938/938 [==============================] - 19s 20ms/step - loss: 0.1028 - accuracy: 0.9609 - val_loss: 0.2477 - val_accuracy: 0.9192\n",
            "Epoch 10/30\n",
            "938/938 [==============================] - 19s 20ms/step - loss: 0.0874 - accuracy: 0.9666 - val_loss: 0.2708 - val_accuracy: 0.9205\n",
            "Epoch 11/30\n",
            "938/938 [==============================] - 19s 20ms/step - loss: 0.0752 - accuracy: 0.9718 - val_loss: 0.2910 - val_accuracy: 0.9214\n",
            "Epoch 12/30\n",
            "938/938 [==============================] - 19s 20ms/step - loss: 0.0625 - accuracy: 0.9769 - val_loss: 0.3280 - val_accuracy: 0.9179\n",
            "Epoch 13/30\n",
            "938/938 [==============================] - 19s 21ms/step - loss: 0.0561 - accuracy: 0.9787 - val_loss: 0.3497 - val_accuracy: 0.9184\n",
            "Epoch 14/30\n",
            "938/938 [==============================] - 19s 20ms/step - loss: 0.0496 - accuracy: 0.9818 - val_loss: 0.3678 - val_accuracy: 0.9159\n",
            "Epoch 15/30\n",
            "938/938 [==============================] - 19s 20ms/step - loss: 0.0431 - accuracy: 0.9840 - val_loss: 0.3968 - val_accuracy: 0.9154\n",
            "Epoch 16/30\n",
            "938/938 [==============================] - 19s 21ms/step - loss: 0.0387 - accuracy: 0.9857 - val_loss: 0.4076 - val_accuracy: 0.9167\n",
            "Epoch 17/30\n",
            "938/938 [==============================] - 41s 44ms/step - loss: 0.0380 - accuracy: 0.9861 - val_loss: 0.4336 - val_accuracy: 0.9159\n",
            "Epoch 18/30\n",
            "938/938 [==============================] - 192s 205ms/step - loss: 0.0326 - accuracy: 0.9877 - val_loss: 0.4378 - val_accuracy: 0.9128\n",
            "Epoch 19/30\n",
            "938/938 [==============================] - 18s 20ms/step - loss: 0.0301 - accuracy: 0.9890 - val_loss: 0.4447 - val_accuracy: 0.9197\n",
            "Epoch 20/30\n",
            "938/938 [==============================] - 18s 20ms/step - loss: 0.0327 - accuracy: 0.9883 - val_loss: 0.4496 - val_accuracy: 0.9163\n",
            "Epoch 21/30\n",
            "938/938 [==============================] - 19s 20ms/step - loss: 0.0311 - accuracy: 0.9891 - val_loss: 0.4660 - val_accuracy: 0.9172\n",
            "Epoch 22/30\n",
            "938/938 [==============================] - 19s 20ms/step - loss: 0.0264 - accuracy: 0.9905 - val_loss: 0.5188 - val_accuracy: 0.9135\n",
            "Epoch 23/30\n",
            "938/938 [==============================] - 19s 20ms/step - loss: 0.0261 - accuracy: 0.9905 - val_loss: 0.5411 - val_accuracy: 0.9193\n",
            "Epoch 24/30\n",
            "938/938 [==============================] - 19s 20ms/step - loss: 0.0242 - accuracy: 0.9915 - val_loss: 0.5353 - val_accuracy: 0.9161\n",
            "Epoch 25/30\n",
            "938/938 [==============================] - 19s 20ms/step - loss: 0.0234 - accuracy: 0.9917 - val_loss: 0.5538 - val_accuracy: 0.9162\n",
            "Epoch 26/30\n",
            "938/938 [==============================] - 19s 21ms/step - loss: 0.0242 - accuracy: 0.9914 - val_loss: 0.5409 - val_accuracy: 0.9135\n",
            "Epoch 27/30\n",
            "938/938 [==============================] - 19s 20ms/step - loss: 0.0262 - accuracy: 0.9909 - val_loss: 0.5481 - val_accuracy: 0.9184\n",
            "Epoch 28/30\n",
            "938/938 [==============================] - 19s 20ms/step - loss: 0.0214 - accuracy: 0.9926 - val_loss: 0.5575 - val_accuracy: 0.9224\n",
            "Epoch 29/30\n",
            "938/938 [==============================] - 19s 20ms/step - loss: 0.0200 - accuracy: 0.9933 - val_loss: 0.6064 - val_accuracy: 0.9212\n",
            "Epoch 30/30\n",
            "938/938 [==============================] - 19s 21ms/step - loss: 0.0232 - accuracy: 0.9922 - val_loss: 0.6511 - val_accuracy: 0.9128\n"
          ]
        },
        {
          "data": {
            "text/plain": [
              "<keras.src.callbacks.History at 0x30410f4d0>"
            ]
          },
          "execution_count": 37,
          "metadata": {},
          "output_type": "execute_result"
        }
      ],
      "source": [
        "#Train the model\n",
        "model.fit(x_train, y_cat_train, batch_size= 64, epochs = 30, validation_data=(x_test, y_cat_test))"
      ]
    },
    {
      "cell_type": "code",
      "execution_count": null,
      "metadata": {
        "id": "XvJ1uU1_ySat",
        "outputId": "2bdeca28-acef-4006-cf1f-ad425b3bf927"
      },
      "outputs": [
        {
          "data": {
            "text/plain": [
              "['loss', 'accuracy']"
            ]
          },
          "execution_count": 38,
          "metadata": {},
          "output_type": "execute_result"
        }
      ],
      "source": [
        "model.metrics_names"
      ]
    },
    {
      "cell_type": "code",
      "execution_count": null,
      "metadata": {
        "id": "xijMTX1GySau"
      },
      "outputs": [],
      "source": [
        "losses = pd.DataFrame(model.history.history)"
      ]
    },
    {
      "cell_type": "code",
      "execution_count": null,
      "metadata": {
        "id": "YFaKnkSGySav",
        "outputId": "7ed162aa-88cb-4877-bab5-4135656f6e8a"
      },
      "outputs": [
        {
          "data": {
            "text/html": [
              "<div>\n",
              "<style scoped>\n",
              "    .dataframe tbody tr th:only-of-type {\n",
              "        vertical-align: middle;\n",
              "    }\n",
              "\n",
              "    .dataframe tbody tr th {\n",
              "        vertical-align: top;\n",
              "    }\n",
              "\n",
              "    .dataframe thead th {\n",
              "        text-align: right;\n",
              "    }\n",
              "</style>\n",
              "<table border=\"1\" class=\"dataframe\">\n",
              "  <thead>\n",
              "    <tr style=\"text-align: right;\">\n",
              "      <th></th>\n",
              "      <th>loss</th>\n",
              "      <th>accuracy</th>\n",
              "      <th>val_loss</th>\n",
              "      <th>val_accuracy</th>\n",
              "    </tr>\n",
              "  </thead>\n",
              "  <tbody>\n",
              "    <tr>\n",
              "      <th>0</th>\n",
              "      <td>0.450110</td>\n",
              "      <td>0.838200</td>\n",
              "      <td>0.319350</td>\n",
              "      <td>0.8807</td>\n",
              "    </tr>\n",
              "    <tr>\n",
              "      <th>1</th>\n",
              "      <td>0.274844</td>\n",
              "      <td>0.900300</td>\n",
              "      <td>0.275157</td>\n",
              "      <td>0.9012</td>\n",
              "    </tr>\n",
              "    <tr>\n",
              "      <th>2</th>\n",
              "      <td>0.231901</td>\n",
              "      <td>0.914750</td>\n",
              "      <td>0.289991</td>\n",
              "      <td>0.8917</td>\n",
              "    </tr>\n",
              "    <tr>\n",
              "      <th>3</th>\n",
              "      <td>0.204942</td>\n",
              "      <td>0.924617</td>\n",
              "      <td>0.238320</td>\n",
              "      <td>0.9113</td>\n",
              "    </tr>\n",
              "    <tr>\n",
              "      <th>4</th>\n",
              "      <td>0.176927</td>\n",
              "      <td>0.934133</td>\n",
              "      <td>0.248494</td>\n",
              "      <td>0.9074</td>\n",
              "    </tr>\n",
              "    <tr>\n",
              "      <th>5</th>\n",
              "      <td>0.156450</td>\n",
              "      <td>0.941417</td>\n",
              "      <td>0.233688</td>\n",
              "      <td>0.9173</td>\n",
              "    </tr>\n",
              "    <tr>\n",
              "      <th>6</th>\n",
              "      <td>0.137176</td>\n",
              "      <td>0.948783</td>\n",
              "      <td>0.238172</td>\n",
              "      <td>0.9177</td>\n",
              "    </tr>\n",
              "    <tr>\n",
              "      <th>7</th>\n",
              "      <td>0.117429</td>\n",
              "      <td>0.956467</td>\n",
              "      <td>0.260696</td>\n",
              "      <td>0.9192</td>\n",
              "    </tr>\n",
              "    <tr>\n",
              "      <th>8</th>\n",
              "      <td>0.102793</td>\n",
              "      <td>0.960933</td>\n",
              "      <td>0.247727</td>\n",
              "      <td>0.9192</td>\n",
              "    </tr>\n",
              "    <tr>\n",
              "      <th>9</th>\n",
              "      <td>0.087373</td>\n",
              "      <td>0.966633</td>\n",
              "      <td>0.270806</td>\n",
              "      <td>0.9205</td>\n",
              "    </tr>\n",
              "    <tr>\n",
              "      <th>10</th>\n",
              "      <td>0.075191</td>\n",
              "      <td>0.971833</td>\n",
              "      <td>0.290977</td>\n",
              "      <td>0.9214</td>\n",
              "    </tr>\n",
              "    <tr>\n",
              "      <th>11</th>\n",
              "      <td>0.062465</td>\n",
              "      <td>0.976867</td>\n",
              "      <td>0.327986</td>\n",
              "      <td>0.9179</td>\n",
              "    </tr>\n",
              "    <tr>\n",
              "      <th>12</th>\n",
              "      <td>0.056139</td>\n",
              "      <td>0.978733</td>\n",
              "      <td>0.349736</td>\n",
              "      <td>0.9184</td>\n",
              "    </tr>\n",
              "    <tr>\n",
              "      <th>13</th>\n",
              "      <td>0.049606</td>\n",
              "      <td>0.981817</td>\n",
              "      <td>0.367816</td>\n",
              "      <td>0.9159</td>\n",
              "    </tr>\n",
              "    <tr>\n",
              "      <th>14</th>\n",
              "      <td>0.043117</td>\n",
              "      <td>0.983967</td>\n",
              "      <td>0.396752</td>\n",
              "      <td>0.9154</td>\n",
              "    </tr>\n",
              "    <tr>\n",
              "      <th>15</th>\n",
              "      <td>0.038678</td>\n",
              "      <td>0.985683</td>\n",
              "      <td>0.407573</td>\n",
              "      <td>0.9167</td>\n",
              "    </tr>\n",
              "    <tr>\n",
              "      <th>16</th>\n",
              "      <td>0.037976</td>\n",
              "      <td>0.986117</td>\n",
              "      <td>0.433573</td>\n",
              "      <td>0.9159</td>\n",
              "    </tr>\n",
              "    <tr>\n",
              "      <th>17</th>\n",
              "      <td>0.032599</td>\n",
              "      <td>0.987717</td>\n",
              "      <td>0.437761</td>\n",
              "      <td>0.9128</td>\n",
              "    </tr>\n",
              "    <tr>\n",
              "      <th>18</th>\n",
              "      <td>0.030081</td>\n",
              "      <td>0.989033</td>\n",
              "      <td>0.444691</td>\n",
              "      <td>0.9197</td>\n",
              "    </tr>\n",
              "    <tr>\n",
              "      <th>19</th>\n",
              "      <td>0.032691</td>\n",
              "      <td>0.988333</td>\n",
              "      <td>0.449568</td>\n",
              "      <td>0.9163</td>\n",
              "    </tr>\n",
              "    <tr>\n",
              "      <th>20</th>\n",
              "      <td>0.031080</td>\n",
              "      <td>0.989150</td>\n",
              "      <td>0.465983</td>\n",
              "      <td>0.9172</td>\n",
              "    </tr>\n",
              "    <tr>\n",
              "      <th>21</th>\n",
              "      <td>0.026426</td>\n",
              "      <td>0.990483</td>\n",
              "      <td>0.518775</td>\n",
              "      <td>0.9135</td>\n",
              "    </tr>\n",
              "    <tr>\n",
              "      <th>22</th>\n",
              "      <td>0.026128</td>\n",
              "      <td>0.990550</td>\n",
              "      <td>0.541068</td>\n",
              "      <td>0.9193</td>\n",
              "    </tr>\n",
              "    <tr>\n",
              "      <th>23</th>\n",
              "      <td>0.024212</td>\n",
              "      <td>0.991450</td>\n",
              "      <td>0.535299</td>\n",
              "      <td>0.9161</td>\n",
              "    </tr>\n",
              "    <tr>\n",
              "      <th>24</th>\n",
              "      <td>0.023411</td>\n",
              "      <td>0.991683</td>\n",
              "      <td>0.553795</td>\n",
              "      <td>0.9162</td>\n",
              "    </tr>\n",
              "    <tr>\n",
              "      <th>25</th>\n",
              "      <td>0.024226</td>\n",
              "      <td>0.991400</td>\n",
              "      <td>0.540859</td>\n",
              "      <td>0.9135</td>\n",
              "    </tr>\n",
              "    <tr>\n",
              "      <th>26</th>\n",
              "      <td>0.026226</td>\n",
              "      <td>0.990867</td>\n",
              "      <td>0.548117</td>\n",
              "      <td>0.9184</td>\n",
              "    </tr>\n",
              "    <tr>\n",
              "      <th>27</th>\n",
              "      <td>0.021392</td>\n",
              "      <td>0.992617</td>\n",
              "      <td>0.557535</td>\n",
              "      <td>0.9224</td>\n",
              "    </tr>\n",
              "    <tr>\n",
              "      <th>28</th>\n",
              "      <td>0.019977</td>\n",
              "      <td>0.993333</td>\n",
              "      <td>0.606369</td>\n",
              "      <td>0.9212</td>\n",
              "    </tr>\n",
              "    <tr>\n",
              "      <th>29</th>\n",
              "      <td>0.023181</td>\n",
              "      <td>0.992217</td>\n",
              "      <td>0.651075</td>\n",
              "      <td>0.9128</td>\n",
              "    </tr>\n",
              "  </tbody>\n",
              "</table>\n",
              "</div>"
            ],
            "text/plain": [
              "        loss  accuracy  val_loss  val_accuracy\n",
              "0   0.450110  0.838200  0.319350        0.8807\n",
              "1   0.274844  0.900300  0.275157        0.9012\n",
              "2   0.231901  0.914750  0.289991        0.8917\n",
              "3   0.204942  0.924617  0.238320        0.9113\n",
              "4   0.176927  0.934133  0.248494        0.9074\n",
              "5   0.156450  0.941417  0.233688        0.9173\n",
              "6   0.137176  0.948783  0.238172        0.9177\n",
              "7   0.117429  0.956467  0.260696        0.9192\n",
              "8   0.102793  0.960933  0.247727        0.9192\n",
              "9   0.087373  0.966633  0.270806        0.9205\n",
              "10  0.075191  0.971833  0.290977        0.9214\n",
              "11  0.062465  0.976867  0.327986        0.9179\n",
              "12  0.056139  0.978733  0.349736        0.9184\n",
              "13  0.049606  0.981817  0.367816        0.9159\n",
              "14  0.043117  0.983967  0.396752        0.9154\n",
              "15  0.038678  0.985683  0.407573        0.9167\n",
              "16  0.037976  0.986117  0.433573        0.9159\n",
              "17  0.032599  0.987717  0.437761        0.9128\n",
              "18  0.030081  0.989033  0.444691        0.9197\n",
              "19  0.032691  0.988333  0.449568        0.9163\n",
              "20  0.031080  0.989150  0.465983        0.9172\n",
              "21  0.026426  0.990483  0.518775        0.9135\n",
              "22  0.026128  0.990550  0.541068        0.9193\n",
              "23  0.024212  0.991450  0.535299        0.9161\n",
              "24  0.023411  0.991683  0.553795        0.9162\n",
              "25  0.024226  0.991400  0.540859        0.9135\n",
              "26  0.026226  0.990867  0.548117        0.9184\n",
              "27  0.021392  0.992617  0.557535        0.9224\n",
              "28  0.019977  0.993333  0.606369        0.9212\n",
              "29  0.023181  0.992217  0.651075        0.9128"
            ]
          },
          "execution_count": 40,
          "metadata": {},
          "output_type": "execute_result"
        }
      ],
      "source": [
        "losses"
      ]
    },
    {
      "cell_type": "code",
      "execution_count": null,
      "metadata": {
        "id": "DveBm1FLySaw",
        "outputId": "c3de6855-1bec-44b8-de30-a77c06a49902"
      },
      "outputs": [
        {
          "data": {
            "text/plain": [
              "<Axes: >"
            ]
          },
          "execution_count": 41,
          "metadata": {},
          "output_type": "execute_result"
        },
        {
          "data": {
            "image/png": "[encoded data removed]",
            "text/plain": [
              "<Figure size 640x480 with 1 Axes>"
            ]
          },
          "metadata": {},
          "output_type": "display_data"
        }
      ],
      "source": [
        "losses[['loss','val_loss']].plot()"
      ]
    },
    {
      "cell_type": "code",
      "execution_count": null,
      "metadata": {
        "id": "YfrYMEgkySaw",
        "outputId": "be4e0466-41af-45c6-b96d-4fe5195c0791"
      },
      "outputs": [
        {
          "data": {
            "text/plain": [
              "<Axes: >"
            ]
          },
          "execution_count": 42,
          "metadata": {},
          "output_type": "execute_result"
        },
        {
          "data": {
            "image/png": "[encoded data removed]",
            "text/plain": [
              "<Figure size 640x480 with 1 Axes>"
            ]
          },
          "metadata": {},
          "output_type": "display_data"
        }
      ],
      "source": [
        "losses[['accuracy','val_accuracy']].plot()"
      ]
    },
    {
      "cell_type": "code",
      "execution_count": null,
      "metadata": {
        "id": "5bJifM1LySax"
      },
      "outputs": [],
      "source": [
        "from tensorflow.keras.callbacks import EarlyStopping\n",
        "early_stop = EarlyStopping(monitor = 'val_loss',patience = 5)"
      ]
    },
    {
      "cell_type": "code",
      "execution_count": null,
      "metadata": {
        "id": "iG_rIAedySax"
      },
      "outputs": [],
      "source": [
        "model = Sequential()\n",
        "\n",
        "model.add(Conv2D(filters=32,kernel_size=(3,3),activation = 'linear',input_shape=(28,28,1),padding='same'))\n",
        "model.add(tf.keras.layers.LeakyReLU(alpha = 0.1))\n",
        "model.add(MaxPool2D(pool_size=(2,2),padding='same'))\n",
        "model.add(Dropout(0.25))\n",
        "model.add(Conv2D(64,(3,3),activation = 'linear',padding = 'same'))\n",
        "model.add(tf.keras.layers.LeakyReLU(alpha = 0.1))\n",
        "model.add(MaxPool2D(pool_size=(2,2),padding='same'))\n",
        "model.add(Dropout(0.25))\n",
        "model.add(Conv2D(128,(3,3),activation = 'linear',padding = 'same'))\n",
        "model.add(tf.keras.layers.LeakyReLU(alpha = 0.1))\n",
        "model.add(MaxPool2D(pool_size=(2,2),padding='same'))\n",
        "model.add(Dropout(0.4))\n",
        "model.add(Flatten())\n",
        "model.add(Dense(128,activation = 'relu'))\n",
        "model.add(tf.keras.layers.LeakyReLU(alpha = 0.1))\n",
        "model.add(Dropout(0.3))\n",
        "model.add(Dense(10,activation = 'softmax'))"
      ]
    },
    {
      "cell_type": "code",
      "execution_count": null,
      "metadata": {
        "id": "psoi7g9fySay",
        "outputId": "5e866aac-98ea-40d2-a19f-70bc8ebc996e"
      },
      "outputs": [
        {
          "name": "stdout",
          "output_type": "stream",
          "text": [
            "Model: \"sequential_1\"\n",
            "_________________________________________________________________\n",
            " Layer (type)                Output Shape              Param #   \n",
            "=================================================================\n",
            " conv2d_3 (Conv2D)           (None, 28, 28, 32)        320       \n",
            "                                                                 \n",
            " leaky_re_lu_4 (LeakyReLU)   (None, 28, 28, 32)        0         \n",
            "                                                                 \n",
            " max_pooling2d_3 (MaxPoolin  (None, 14, 14, 32)        0         \n",
            " g2D)                                                            \n",
            "                                                                 \n",
            " dropout (Dropout)           (None, 14, 14, 32)        0         \n",
            "                                                                 \n",
            " conv2d_4 (Conv2D)           (None, 14, 14, 64)        18496     \n",
            "                                                                 \n",
            " leaky_re_lu_5 (LeakyReLU)   (None, 14, 14, 64)        0         \n",
            "                                                                 \n",
            " max_pooling2d_4 (MaxPoolin  (None, 7, 7, 64)          0         \n",
            " g2D)                                                            \n",
            "                                                                 \n",
            " dropout_1 (Dropout)         (None, 7, 7, 64)          0         \n",
            "                                                                 \n",
            " conv2d_5 (Conv2D)           (None, 7, 7, 128)         73856     \n",
            "                                                                 \n",
            " leaky_re_lu_6 (LeakyReLU)   (None, 7, 7, 128)         0         \n",
            "                                                                 \n",
            " max_pooling2d_5 (MaxPoolin  (None, 4, 4, 128)         0         \n",
            " g2D)                                                            \n",
            "                                                                 \n",
            " dropout_2 (Dropout)         (None, 4, 4, 128)         0         \n",
            "                                                                 \n",
            " flatten_1 (Flatten)         (None, 2048)              0         \n",
            "                                                                 \n",
            " dense_2 (Dense)             (None, 128)               262272    \n",
            "                                                                 \n",
            " leaky_re_lu_7 (LeakyReLU)   (None, 128)               0         \n",
            "                                                                 \n",
            " dropout_3 (Dropout)         (None, 128)               0         \n",
            "                                                                 \n",
            " dense_3 (Dense)             (None, 10)                1290      \n",
            "                                                                 \n",
            "=================================================================\n",
            "Total params: 356234 (1.36 MB)\n",
            "Trainable params: 356234 (1.36 MB)\n",
            "Non-trainable params: 0 (0.00 Byte)\n",
            "_________________________________________________________________\n"
          ]
        }
      ],
      "source": [
        "model.summary()"
      ]
    },
    {
      "cell_type": "code",
      "execution_count": null,
      "metadata": {
        "id": "3e9RIjGoySaz"
      },
      "outputs": [],
      "source": [
        "model.compile(loss = 'categorical_crossentropy', optimizer= 'adam', metrics = ['accuracy'])"
      ]
    },
    {
      "cell_type": "code",
      "execution_count": null,
      "metadata": {
        "id": "y-dhK8g_ySaz",
        "outputId": "b2520d86-57a9-40f1-df63-3271919aff52"
      },
      "outputs": [
        {
          "name": "stdout",
          "output_type": "stream",
          "text": [
            "Epoch 1/30\n",
            "938/938 [==============================] - 21s 22ms/step - loss: 0.5723 - accuracy: 0.7874 - val_loss: 0.3717 - val_accuracy: 0.8620\n",
            "Epoch 2/30\n",
            "938/938 [==============================] - 21s 22ms/step - loss: 0.3676 - accuracy: 0.8643 - val_loss: 0.3099 - val_accuracy: 0.8842\n",
            "Epoch 3/30\n",
            "938/938 [==============================] - 21s 23ms/step - loss: 0.3221 - accuracy: 0.8812 - val_loss: 0.2763 - val_accuracy: 0.8991\n",
            "Epoch 4/30\n",
            "938/938 [==============================] - 2058s 2s/step - loss: 0.2958 - accuracy: 0.8911 - val_loss: 0.2755 - val_accuracy: 0.8985\n",
            "Epoch 5/30\n",
            "938/938 [==============================] - 2032s 2s/step - loss: 0.2784 - accuracy: 0.8958 - val_loss: 0.2588 - val_accuracy: 0.9050\n",
            "Epoch 6/30\n",
            "938/938 [==============================] - 3169s 3s/step - loss: 0.2647 - accuracy: 0.9039 - val_loss: 0.2463 - val_accuracy: 0.9078\n",
            "Epoch 7/30\n",
            "938/938 [==============================] - 1914s 2s/step - loss: 0.2506 - accuracy: 0.9070 - val_loss: 0.2327 - val_accuracy: 0.9098\n",
            "Epoch 8/30\n",
            "938/938 [==============================] - 1753s 2s/step - loss: 0.2474 - accuracy: 0.9075 - val_loss: 0.2419 - val_accuracy: 0.9110\n",
            "Epoch 9/30\n",
            "938/938 [==============================] - 3618s 4s/step - loss: 0.2413 - accuracy: 0.9104 - val_loss: 0.2292 - val_accuracy: 0.9148\n",
            "Epoch 10/30\n",
            "938/938 [==============================] - 1889s 2s/step - loss: 0.2343 - accuracy: 0.9130 - val_loss: 0.2239 - val_accuracy: 0.9165\n",
            "Epoch 11/30\n",
            "938/938 [==============================] - 2924s 3s/step - loss: 0.2275 - accuracy: 0.9159 - val_loss: 0.2280 - val_accuracy: 0.9158\n",
            "Epoch 12/30\n",
            "938/938 [==============================] - 2449s 3s/step - loss: 0.2216 - accuracy: 0.9171 - val_loss: 0.2341 - val_accuracy: 0.9165\n",
            "Epoch 13/30\n",
            "938/938 [==============================] - 2084s 2s/step - loss: 0.2167 - accuracy: 0.9192 - val_loss: 0.2206 - val_accuracy: 0.9200\n",
            "Epoch 14/30\n",
            "938/938 [==============================] - 2585s 3s/step - loss: 0.2161 - accuracy: 0.9194 - val_loss: 0.2284 - val_accuracy: 0.9171\n",
            "Epoch 15/30\n",
            "938/938 [==============================] - 2649s 3s/step - loss: 0.2098 - accuracy: 0.9208 - val_loss: 0.2215 - val_accuracy: 0.9212\n",
            "Epoch 16/30\n",
            "938/938 [==============================] - 1961s 2s/step - loss: 0.2104 - accuracy: 0.9225 - val_loss: 0.2187 - val_accuracy: 0.9170\n",
            "Epoch 17/30\n",
            "938/938 [==============================] - 2751s 3s/step - loss: 0.2057 - accuracy: 0.9225 - val_loss: 0.2074 - val_accuracy: 0.9254\n",
            "Epoch 18/30\n",
            "938/938 [==============================] - 3667s 4s/step - loss: 0.2040 - accuracy: 0.9228 - val_loss: 0.2195 - val_accuracy: 0.9214\n",
            "Epoch 19/30\n",
            "938/938 [==============================] - 2107s 2s/step - loss: 0.2030 - accuracy: 0.9235 - val_loss: 0.2126 - val_accuracy: 0.9223\n",
            "Epoch 20/30\n",
            "938/938 [==============================] - 3460s 4s/step - loss: 0.2018 - accuracy: 0.9239 - val_loss: 0.2166 - val_accuracy: 0.9228\n",
            "Epoch 21/30\n",
            "938/938 [==============================] - 3852s 4s/step - loss: 0.1946 - accuracy: 0.9266 - val_loss: 0.2201 - val_accuracy: 0.9241\n",
            "Epoch 22/30\n",
            "938/938 [==============================] - 2886s 3s/step - loss: 0.1969 - accuracy: 0.9257 - val_loss: 0.2140 - val_accuracy: 0.9255\n"
          ]
        },
        {
          "data": {
            "text/plain": [
              "<keras.src.callbacks.History at 0x30415e810>"
            ]
          },
          "execution_count": 47,
          "metadata": {},
          "output_type": "execute_result"
        }
      ],
      "source": [
        "#Train the model\n",
        "model.fit(x_train, y_cat_train, batch_size= 64, epochs = 30, validation_data=(x_test, y_cat_test),callbacks=[early_stop])"
      ]
    },
    {
      "cell_type": "code",
      "execution_count": null,
      "metadata": {
        "id": "FjqEuUFRySa0",
        "outputId": "ebbb46d4-0077-4009-b330-bd0a54dfd2f6"
      },
      "outputs": [
        {
          "data": {
            "text/plain": [
              "['loss', 'accuracy']"
            ]
          },
          "execution_count": 48,
          "metadata": {},
          "output_type": "execute_result"
        }
      ],
      "source": [
        "model.metrics_names"
      ]
    },
    {
      "cell_type": "code",
      "execution_count": null,
      "metadata": {
        "id": "WCtZPl1-ySa1"
      },
      "outputs": [],
      "source": [
        "losses = pd.DataFrame(model.history.history)"
      ]
    },
    {
      "cell_type": "code",
      "execution_count": null,
      "metadata": {
        "id": "aNwYxoMHySa2",
        "outputId": "239f5838-ce10-4268-f96c-7b77fe80bb78"
      },
      "outputs": [
        {
          "data": {
            "text/html": [
              "<div>\n",
              "<style scoped>\n",
              "    .dataframe tbody tr th:only-of-type {\n",
              "        vertical-align: middle;\n",
              "    }\n",
              "\n",
              "    .dataframe tbody tr th {\n",
              "        vertical-align: top;\n",
              "    }\n",
              "\n",
              "    .dataframe thead th {\n",
              "        text-align: right;\n",
              "    }\n",
              "</style>\n",
              "<table border=\"1\" class=\"dataframe\">\n",
              "  <thead>\n",
              "    <tr style=\"text-align: right;\">\n",
              "      <th></th>\n",
              "      <th>loss</th>\n",
              "      <th>accuracy</th>\n",
              "      <th>val_loss</th>\n",
              "      <th>val_accuracy</th>\n",
              "    </tr>\n",
              "  </thead>\n",
              "  <tbody>\n",
              "    <tr>\n",
              "      <th>0</th>\n",
              "      <td>0.572317</td>\n",
              "      <td>0.787383</td>\n",
              "      <td>0.371726</td>\n",
              "      <td>0.8620</td>\n",
              "    </tr>\n",
              "    <tr>\n",
              "      <th>1</th>\n",
              "      <td>0.367589</td>\n",
              "      <td>0.864283</td>\n",
              "      <td>0.309925</td>\n",
              "      <td>0.8842</td>\n",
              "    </tr>\n",
              "    <tr>\n",
              "      <th>2</th>\n",
              "      <td>0.322149</td>\n",
              "      <td>0.881167</td>\n",
              "      <td>0.276296</td>\n",
              "      <td>0.8991</td>\n",
              "    </tr>\n",
              "    <tr>\n",
              "      <th>3</th>\n",
              "      <td>0.295839</td>\n",
              "      <td>0.891100</td>\n",
              "      <td>0.275506</td>\n",
              "      <td>0.8985</td>\n",
              "    </tr>\n",
              "    <tr>\n",
              "      <th>4</th>\n",
              "      <td>0.278442</td>\n",
              "      <td>0.895767</td>\n",
              "      <td>0.258809</td>\n",
              "      <td>0.9050</td>\n",
              "    </tr>\n",
              "    <tr>\n",
              "      <th>5</th>\n",
              "      <td>0.264704</td>\n",
              "      <td>0.903917</td>\n",
              "      <td>0.246340</td>\n",
              "      <td>0.9078</td>\n",
              "    </tr>\n",
              "    <tr>\n",
              "      <th>6</th>\n",
              "      <td>0.250632</td>\n",
              "      <td>0.907017</td>\n",
              "      <td>0.232685</td>\n",
              "      <td>0.9098</td>\n",
              "    </tr>\n",
              "    <tr>\n",
              "      <th>7</th>\n",
              "      <td>0.247364</td>\n",
              "      <td>0.907483</td>\n",
              "      <td>0.241892</td>\n",
              "      <td>0.9110</td>\n",
              "    </tr>\n",
              "    <tr>\n",
              "      <th>8</th>\n",
              "      <td>0.241340</td>\n",
              "      <td>0.910350</td>\n",
              "      <td>0.229168</td>\n",
              "      <td>0.9148</td>\n",
              "    </tr>\n",
              "    <tr>\n",
              "      <th>9</th>\n",
              "      <td>0.234309</td>\n",
              "      <td>0.912967</td>\n",
              "      <td>0.223935</td>\n",
              "      <td>0.9165</td>\n",
              "    </tr>\n",
              "    <tr>\n",
              "      <th>10</th>\n",
              "      <td>0.227466</td>\n",
              "      <td>0.915917</td>\n",
              "      <td>0.227966</td>\n",
              "      <td>0.9158</td>\n",
              "    </tr>\n",
              "    <tr>\n",
              "      <th>11</th>\n",
              "      <td>0.221573</td>\n",
              "      <td>0.917083</td>\n",
              "      <td>0.234065</td>\n",
              "      <td>0.9165</td>\n",
              "    </tr>\n",
              "    <tr>\n",
              "      <th>12</th>\n",
              "      <td>0.216726</td>\n",
              "      <td>0.919233</td>\n",
              "      <td>0.220602</td>\n",
              "      <td>0.9200</td>\n",
              "    </tr>\n",
              "    <tr>\n",
              "      <th>13</th>\n",
              "      <td>0.216108</td>\n",
              "      <td>0.919383</td>\n",
              "      <td>0.228352</td>\n",
              "      <td>0.9171</td>\n",
              "    </tr>\n",
              "    <tr>\n",
              "      <th>14</th>\n",
              "      <td>0.209825</td>\n",
              "      <td>0.920833</td>\n",
              "      <td>0.221451</td>\n",
              "      <td>0.9212</td>\n",
              "    </tr>\n",
              "    <tr>\n",
              "      <th>15</th>\n",
              "      <td>0.210386</td>\n",
              "      <td>0.922533</td>\n",
              "      <td>0.218670</td>\n",
              "      <td>0.9170</td>\n",
              "    </tr>\n",
              "    <tr>\n",
              "      <th>16</th>\n",
              "      <td>0.205708</td>\n",
              "      <td>0.922517</td>\n",
              "      <td>0.207422</td>\n",
              "      <td>0.9254</td>\n",
              "    </tr>\n",
              "    <tr>\n",
              "      <th>17</th>\n",
              "      <td>0.204043</td>\n",
              "      <td>0.922817</td>\n",
              "      <td>0.219450</td>\n",
              "      <td>0.9214</td>\n",
              "    </tr>\n",
              "    <tr>\n",
              "      <th>18</th>\n",
              "      <td>0.202961</td>\n",
              "      <td>0.923500</td>\n",
              "      <td>0.212557</td>\n",
              "      <td>0.9223</td>\n",
              "    </tr>\n",
              "    <tr>\n",
              "      <th>19</th>\n",
              "      <td>0.201775</td>\n",
              "      <td>0.923867</td>\n",
              "      <td>0.216604</td>\n",
              "      <td>0.9228</td>\n",
              "    </tr>\n",
              "    <tr>\n",
              "      <th>20</th>\n",
              "      <td>0.194617</td>\n",
              "      <td>0.926567</td>\n",
              "      <td>0.220052</td>\n",
              "      <td>0.9241</td>\n",
              "    </tr>\n",
              "    <tr>\n",
              "      <th>21</th>\n",
              "      <td>0.196935</td>\n",
              "      <td>0.925733</td>\n",
              "      <td>0.213964</td>\n",
              "      <td>0.9255</td>\n",
              "    </tr>\n",
              "  </tbody>\n",
              "</table>\n",
              "</div>"
            ],
            "text/plain": [
              "        loss  accuracy  val_loss  val_accuracy\n",
              "0   0.572317  0.787383  0.371726        0.8620\n",
              "1   0.367589  0.864283  0.309925        0.8842\n",
              "2   0.322149  0.881167  0.276296        0.8991\n",
              "3   0.295839  0.891100  0.275506        0.8985\n",
              "4   0.278442  0.895767  0.258809        0.9050\n",
              "5   0.264704  0.903917  0.246340        0.9078\n",
              "6   0.250632  0.907017  0.232685        0.9098\n",
              "7   0.247364  0.907483  0.241892        0.9110\n",
              "8   0.241340  0.910350  0.229168        0.9148\n",
              "9   0.234309  0.912967  0.223935        0.9165\n",
              "10  0.227466  0.915917  0.227966        0.9158\n",
              "11  0.221573  0.917083  0.234065        0.9165\n",
              "12  0.216726  0.919233  0.220602        0.9200\n",
              "13  0.216108  0.919383  0.228352        0.9171\n",
              "14  0.209825  0.920833  0.221451        0.9212\n",
              "15  0.210386  0.922533  0.218670        0.9170\n",
              "16  0.205708  0.922517  0.207422        0.9254\n",
              "17  0.204043  0.922817  0.219450        0.9214\n",
              "18  0.202961  0.923500  0.212557        0.9223\n",
              "19  0.201775  0.923867  0.216604        0.9228\n",
              "20  0.194617  0.926567  0.220052        0.9241\n",
              "21  0.196935  0.925733  0.213964        0.9255"
            ]
          },
          "execution_count": 50,
          "metadata": {},
          "output_type": "execute_result"
        }
      ],
      "source": [
        "losses"
      ]
    },
    {
      "cell_type": "code",
      "execution_count": null,
      "metadata": {
        "id": "DH_qM7_iySa4",
        "outputId": "635471b1-9be4-4d0f-d0c4-cc7e829c08cd"
      },
      "outputs": [
        {
          "data": {
            "text/plain": [
              "<Axes: >"
            ]
          },
          "execution_count": 51,
          "metadata": {},
          "output_type": "execute_result"
        },
        {
          "data": {
            "image/png": "[encoded data removed]",
            "text/plain": [
              "<Figure size 640x480 with 1 Axes>"
            ]
          },
          "metadata": {},
          "output_type": "display_data"
        }
      ],
      "source": [
        "losses[['loss','val_loss']].plot()"
      ]
    },
    {
      "cell_type": "code",
      "execution_count": null,
      "metadata": {
        "id": "CMzmhnPeySa5",
        "outputId": "e0b48304-35cb-4d4d-de57-292c648ed93b"
      },
      "outputs": [
        {
          "data": {
            "text/plain": [
              "<Axes: >"
            ]
          },
          "execution_count": 52,
          "metadata": {},
          "output_type": "execute_result"
        },
        {
          "data": {
            "image/png": "[encoded data removed]",
            "text/plain": [
              "<Figure size 640x480 with 1 Axes>"
            ]
          },
          "metadata": {},
          "output_type": "display_data"
        }
      ],
      "source": [
        "losses[['accuracy','val_accuracy']].plot()"
      ]
    },
    {
      "cell_type": "code",
      "execution_count": null,
      "metadata": {
        "id": "hdpa74uPySa6",
        "outputId": "99ce080e-cd16-4a16-dc05-e89feac282c9"
      },
      "outputs": [
        {
          "data": {
            "text/plain": [
              "['loss', 'accuracy']"
            ]
          },
          "execution_count": 53,
          "metadata": {},
          "output_type": "execute_result"
        }
      ],
      "source": [
        "model.metrics_names"
      ]
    },
    {
      "cell_type": "code",
      "execution_count": null,
      "metadata": {
        "id": "Ds5aoT0DySa6",
        "outputId": "2032a419-0cd9-4329-9559-d1e43e3113ae"
      },
      "outputs": [
        {
          "name": "stdout",
          "output_type": "stream",
          "text": [
            "313/313 [==============================] - 2s 6ms/step - loss: 0.2140 - accuracy: 0.9255\n"
          ]
        },
        {
          "data": {
            "text/plain": [
              "[0.21396443247795105, 0.9254999756813049]"
            ]
          },
          "execution_count": 54,
          "metadata": {},
          "output_type": "execute_result"
        }
      ],
      "source": [
        "model.evaluate(x_test,y_cat_test)"
      ]
    },
    {
      "cell_type": "code",
      "execution_count": null,
      "metadata": {
        "id": "4YFjaod8ySa7"
      },
      "outputs": [],
      "source": [
        "from sklearn.metrics import classification_report, confusion_matrix"
      ]
    },
    {
      "cell_type": "code",
      "execution_count": null,
      "metadata": {
        "id": "YAvjL8r3ySa7",
        "outputId": "3743d049-834e-447d-fafc-51769f6dfda0"
      },
      "outputs": [
        {
          "name": "stdout",
          "output_type": "stream",
          "text": [
            "313/313 [==============================] - 1s 3ms/step\n"
          ]
        }
      ],
      "source": [
        "y_test_pred = model.predict(x_test)"
      ]
    },
    {
      "cell_type": "code",
      "execution_count": null,
      "metadata": {
        "id": "4HramGnvySa8",
        "outputId": "26c5f2f0-3e5d-4f1c-e2c8-0f48d10eca98"
      },
      "outputs": [
        {
          "data": {
            "text/plain": [
              "(10000, 10)"
            ]
          },
          "execution_count": 57,
          "metadata": {},
          "output_type": "execute_result"
        }
      ],
      "source": [
        "y_test_pred.shape"
      ]
    },
    {
      "cell_type": "code",
      "execution_count": null,
      "metadata": {
        "id": "JhXr6bu9ySa9",
        "outputId": "198863f0-b144-4513-a0ee-4eadb7a60543"
      },
      "outputs": [
        {
          "data": {
            "text/plain": [
              "array([4.6006239e-15, 2.5482941e-13, 2.9472803e-16, 2.5962483e-15,\n",
              "       3.0985859e-18, 4.7159281e-07, 5.4073525e-15, 6.4077016e-05,\n",
              "       1.2929713e-15, 9.9993539e-01], dtype=float32)"
            ]
          },
          "execution_count": 58,
          "metadata": {},
          "output_type": "execute_result"
        }
      ],
      "source": [
        "y_test_pred[0]"
      ]
    },
    {
      "cell_type": "code",
      "execution_count": null,
      "metadata": {
        "id": "xdi-ONGjySa9"
      },
      "outputs": [],
      "source": [
        "y_test_pred_classes = np.argmax(y_test_pred,axis = 1)"
      ]
    },
    {
      "cell_type": "code",
      "execution_count": null,
      "metadata": {
        "id": "WJhtpeEDySa-",
        "outputId": "068f8be3-19c7-4ec0-d15b-ba77cab322f8"
      },
      "outputs": [
        {
          "data": {
            "text/plain": [
              "(10000,)"
            ]
          },
          "execution_count": 60,
          "metadata": {},
          "output_type": "execute_result"
        }
      ],
      "source": [
        "y_test_pred_classes.shape"
      ]
    },
    {
      "cell_type": "code",
      "execution_count": null,
      "metadata": {
        "id": "qybQ2UnOySa_",
        "outputId": "3991d3a3-546d-4bf5-ec69-81244081d1b8"
      },
      "outputs": [
        {
          "data": {
            "text/plain": [
              "9"
            ]
          },
          "execution_count": 61,
          "metadata": {},
          "output_type": "execute_result"
        }
      ],
      "source": [
        "y_test_pred_classes[0]"
      ]
    },
    {
      "cell_type": "code",
      "execution_count": null,
      "metadata": {
        "id": "4dVLrAefySa_",
        "outputId": "7e3de007-14c2-4b28-dc92-9dd8d78edec2"
      },
      "outputs": [
        {
          "name": "stdout",
          "output_type": "stream",
          "text": [
            "              precision    recall  f1-score   support\n",
            "\n",
            "           0       0.88      0.90      0.89      1000\n",
            "           1       1.00      0.99      0.99      1000\n",
            "           2       0.91      0.85      0.88      1000\n",
            "           3       0.90      0.95      0.93      1000\n",
            "           4       0.87      0.89      0.88      1000\n",
            "           5       0.99      0.99      0.99      1000\n",
            "           6       0.78      0.77      0.77      1000\n",
            "           7       0.95      0.99      0.97      1000\n",
            "           8       0.99      0.98      0.99      1000\n",
            "           9       0.99      0.95      0.97      1000\n",
            "\n",
            "    accuracy                           0.93     10000\n",
            "   macro avg       0.93      0.93      0.93     10000\n",
            "weighted avg       0.93      0.93      0.93     10000\n",
            "\n"
          ]
        }
      ],
      "source": [
        "print(classification_report(y_test,y_test_pred_classes))"
      ]
    },
    {
      "cell_type": "code",
      "execution_count": null,
      "metadata": {
        "id": "nX_NCHDgySbA",
        "outputId": "ea27d4c5-8cd3-43bc-ec38-3066c3d2122d"
      },
      "outputs": [
        {
          "data": {
            "text/plain": [
              "array([[899,   0,   9,  19,   4,   1,  64,   0,   4,   0],\n",
              "       [  0, 987,   0,  11,   2,   0,   0,   0,   0,   0],\n",
              "       [ 17,   0, 850,   8,  59,   0,  66,   0,   0,   0],\n",
              "       [  6,   4,   5, 952,  17,   0,  16,   0,   0,   0],\n",
              "       [  0,   0,  21,  28, 887,   0,  64,   0,   0,   0],\n",
              "       [  0,   0,   0,   0,   0, 988,   0,   9,   0,   3],\n",
              "       [101,   0,  43,  35,  49,   0, 768,   0,   4,   0],\n",
              "       [  0,   0,   0,   0,   0,   4,   0, 988,   0,   8],\n",
              "       [  4,   0,   1,   3,   3,   1,   3,   1, 984,   0],\n",
              "       [  0,   0,   0,   0,   0,   2,   1,  45,   0, 952]])"
            ]
          },
          "execution_count": 63,
          "metadata": {},
          "output_type": "execute_result"
        }
      ],
      "source": [
        "confusion_matrix(y_test, y_test_pred_classes)"
      ]
    },
    {
      "cell_type": "code",
      "execution_count": null,
      "metadata": {
        "id": "5jzcnzGUySbA",
        "outputId": "cc843957-e9b5-4865-8e49-f514d3e24579"
      },
      "outputs": [
        {
          "name": "stdout",
          "output_type": "stream",
          "text": [
            "1875/1875 [==============================] - 984s 525ms/step\n"
          ]
        }
      ],
      "source": [
        "y_train_pred = model.predict(x_train)"
      ]
    },
    {
      "cell_type": "code",
      "execution_count": null,
      "metadata": {
        "id": "-lIO5_GFySbB",
        "outputId": "dfb2ebcb-e563-46f8-f439-4b6c6e95ba4f"
      },
      "outputs": [
        {
          "data": {
            "text/plain": [
              "(60000, 10)"
            ]
          },
          "execution_count": 65,
          "metadata": {},
          "output_type": "execute_result"
        }
      ],
      "source": [
        "y_train_pred.shape"
      ]
    },
    {
      "cell_type": "code",
      "execution_count": null,
      "metadata": {
        "id": "DnzXnztwySbB",
        "outputId": "d06a1d40-20f6-4495-de57-8b53252b5fdf"
      },
      "outputs": [
        {
          "data": {
            "text/plain": [
              "array([1.8494325e-16, 3.8695078e-13, 3.3861796e-17, 7.1308570e-15,\n",
              "       8.9105023e-19, 6.7677327e-08, 3.4332532e-16, 7.9222899e-03,\n",
              "       3.2164842e-15, 9.9207765e-01], dtype=float32)"
            ]
          },
          "execution_count": 66,
          "metadata": {},
          "output_type": "execute_result"
        }
      ],
      "source": [
        "y_train_pred[0]"
      ]
    },
    {
      "cell_type": "code",
      "execution_count": null,
      "metadata": {
        "id": "S16-qeiFySbC"
      },
      "outputs": [],
      "source": [
        "y_train_pred_classes = np.argmax(y_train_pred,axis = 1)"
      ]
    },
    {
      "cell_type": "code",
      "execution_count": null,
      "metadata": {
        "id": "cZD3NorcySbD",
        "outputId": "88ebdf75-bc85-4c39-c603-6ef3a44d73b8"
      },
      "outputs": [
        {
          "data": {
            "text/plain": [
              "(60000,)"
            ]
          },
          "execution_count": 68,
          "metadata": {},
          "output_type": "execute_result"
        }
      ],
      "source": [
        "y_train_pred_classes.shape"
      ]
    },
    {
      "cell_type": "code",
      "execution_count": null,
      "metadata": {
        "id": "3z_bjj4mySbD",
        "outputId": "de05407f-4135-4ec7-a49f-b043a4bdbfca"
      },
      "outputs": [
        {
          "data": {
            "text/plain": [
              "9"
            ]
          },
          "execution_count": 69,
          "metadata": {},
          "output_type": "execute_result"
        }
      ],
      "source": [
        "y_train_pred_classes[0]"
      ]
    },
    {
      "cell_type": "code",
      "execution_count": null,
      "metadata": {
        "id": "deysDUrpySbE",
        "outputId": "6d0d6329-57e7-415b-d7ab-977a279f9484"
      },
      "outputs": [
        {
          "name": "stdout",
          "output_type": "stream",
          "text": [
            "              precision    recall  f1-score   support\n",
            "\n",
            "           0       0.92      0.93      0.92      6000\n",
            "           1       1.00      1.00      1.00      6000\n",
            "           2       0.96      0.88      0.92      6000\n",
            "           3       0.94      0.98      0.96      6000\n",
            "           4       0.90      0.92      0.91      6000\n",
            "           5       1.00      1.00      1.00      6000\n",
            "           6       0.87      0.87      0.87      6000\n",
            "           7       0.97      1.00      0.98      6000\n",
            "           8       1.00      1.00      1.00      6000\n",
            "           9       0.99      0.97      0.98      6000\n",
            "\n",
            "    accuracy                           0.95     60000\n",
            "   macro avg       0.95      0.95      0.95     60000\n",
            "weighted avg       0.95      0.95      0.95     60000\n",
            "\n"
          ]
        }
      ],
      "source": [
        "print(classification_report(y_train,y_train_pred_classes))"
      ]
    },
    {
      "cell_type": "code",
      "execution_count": null,
      "metadata": {
        "id": "2dhqVKPEySbG",
        "outputId": "47df5708-f9a2-4c43-bf5a-37e5197e8409"
      },
      "outputs": [
        {
          "data": {
            "text/plain": [
              "array([[5603,    1,   34,  110,    4,    0,  246,    0,    2,    0],\n",
              "       [   0, 5989,    0,   11,    0,    0,    0,    0,    0,    0],\n",
              "       [  73,    1, 5272,   44,  395,    0,  215,    0,    0,    0],\n",
              "       [  14,    2,    3, 5877,   78,    0,   26,    0,    0,    0],\n",
              "       [   2,    3,   65,  118, 5542,    0,  270,    0,    0,    0],\n",
              "       [   0,    0,    0,    0,    0, 5974,    0,   20,    0,    6],\n",
              "       [ 421,    2,  141,  107,  133,    0, 5195,    0,    1,    0],\n",
              "       [   0,    0,    0,    0,    0,    2,    0, 5974,    0,   24],\n",
              "       [   2,    0,    0,    4,    8,    0,    8,    1, 5977,    0],\n",
              "       [   0,    0,    0,    0,    0,    3,    0,  174,    0, 5823]])"
            ]
          },
          "execution_count": 71,
          "metadata": {},
          "output_type": "execute_result"
        }
      ],
      "source": [
        "confusion_matrix(y_train,y_train_pred_classes)"
      ]
    },
    {
      "cell_type": "code",
      "execution_count": null,
      "metadata": {
        "id": "cGEk2GefySbI"
      },
      "outputs": [],
      "source": [
        "#predict for inference image\n",
        "inference_image = x_test[234]"
      ]
    },
    {
      "cell_type": "code",
      "execution_count": null,
      "metadata": {
        "id": "9pvoD66JySbJ",
        "outputId": "018e4396-2564-45a0-be45-b98ca5db344a"
      },
      "outputs": [
        {
          "name": "stdout",
          "output_type": "stream",
          "text": [
            "1.0 0.0\n"
          ]
        }
      ],
      "source": [
        "print(inference_image.max(),inference_image.min())"
      ]
    },
    {
      "cell_type": "code",
      "execution_count": null,
      "metadata": {
        "id": "b-NyEzxhySbK",
        "outputId": "72032199-5d9f-4c37-827e-ffab54b713ba"
      },
      "outputs": [
        {
          "data": {
            "text/plain": [
              "<matplotlib.image.AxesImage at 0x320c678d0>"
            ]
          },
          "execution_count": 74,
          "metadata": {},
          "output_type": "execute_result"
        },
        {
          "data": {
            "image/png": "[encoded data removed]",
            "text/plain": [
              "<Figure size 640x480 with 1 Axes>"
            ]
          },
          "metadata": {},
          "output_type": "display_data"
        }
      ],
      "source": [
        "plt.imshow(inference_image)"
      ]
    },
    {
      "cell_type": "code",
      "execution_count": null,
      "metadata": {
        "id": "4hIvT_ZrySbL",
        "outputId": "469f25bf-c866-433c-89b3-c52d9d3f6007"
      },
      "outputs": [
        {
          "data": {
            "text/plain": [
              "(28, 28, 1)"
            ]
          },
          "execution_count": 75,
          "metadata": {},
          "output_type": "execute_result"
        }
      ],
      "source": [
        "inference_image.shape"
      ]
    },
    {
      "cell_type": "code",
      "execution_count": null,
      "metadata": {
        "id": "CpE0lft6ySbM",
        "outputId": "eb430dcc-b9e5-4899-d9bf-ccf73bcdbd6c"
      },
      "outputs": [
        {
          "name": "stdout",
          "output_type": "stream",
          "text": [
            "1/1 [==============================] - 0s 42ms/step\n"
          ]
        },
        {
          "data": {
            "text/plain": [
              "9"
            ]
          },
          "execution_count": 76,
          "metadata": {},
          "output_type": "execute_result"
        }
      ],
      "source": [
        "np.argmax(model.predict(inference_image.reshape(1,28,28,1)))"
      ]
    },
    {
      "cell_type": "code",
      "execution_count": null,
      "metadata": {
        "id": "TZMDv3bpySbN"
      },
      "outputs": [],
      "source": []
    }
  ],
  "metadata": {
    "kernelspec": {
      "display_name": "ml",
      "language": "python",
      "name": "python3"
    },
    "language_info": {
      "codemirror_mode": {
        "name": "ipython",
        "version": 3
      },
      "file_extension": ".py",
      "mimetype": "text/x-python",
      "name": "python",
      "nbconvert_exporter": "python",
      "pygments_lexer": "ipython3",
      "version": "3.11.7"
    },
    "colab": {
      "provenance": [],
      "include_colab_link": true
    }
  },
  "nbformat": 4,
  "nbformat_minor": 0
}