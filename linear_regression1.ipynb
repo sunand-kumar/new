{
  "cells": [
    {
      "cell_type": "markdown",
      "metadata": {
        "id": "view-in-github",
        "colab_type": "text"
      },
      "source": [
        "<a href=\"https://colab.research.google.com/github/sunand-kumar/new/blob/master/linear_regression1.ipynb\" target=\"_parent\"><img src=\"https://colab.research.google.com/assets/colab-badge.svg\" alt=\"Open In Colab\"/></a>"
      ]
    },
    {
      "cell_type": "code",
      "execution_count": null,
      "id": "cee1522f-c652-46f3-9a15-c25e8576ef40",
      "metadata": {
        "id": "cee1522f-c652-46f3-9a15-c25e8576ef40"
      },
      "outputs": [],
      "source": [
        "import numpy as np\n",
        "import matplotlib.pyplot as plt\n",
        "import pandas as pd"
      ]
    },
    {
      "cell_type": "code",
      "source": [
        "from google.colab import drive\n",
        "drive.mount('/content/drive')"
      ],
      "metadata": {
        "id": "UP9XrWcSuLoE"
      },
      "id": "UP9XrWcSuLoE",
      "execution_count": null,
      "outputs": []
    },
    {
      "cell_type": "code",
      "execution_count": null,
      "id": "e61e391e-b497-407d-98db-16c5070c0984",
      "metadata": {
        "id": "e61e391e-b497-407d-98db-16c5070c0984"
      },
      "outputs": [],
      "source": [
        "df = pd.read_csv('C:/Users/Sunith/Documents/Salary_Data.csv')\n",
        "df"
      ]
    },
    {
      "cell_type": "code",
      "execution_count": null,
      "id": "c74a5fe3-3861-4b9c-ba17-479d5b33e8e3",
      "metadata": {
        "id": "c74a5fe3-3861-4b9c-ba17-479d5b33e8e3"
      },
      "outputs": [],
      "source": [
        "df.head()"
      ]
    },
    {
      "cell_type": "code",
      "execution_count": null,
      "id": "53bd7ff8-0db7-4223-b35c-f077cfd9f078",
      "metadata": {
        "id": "53bd7ff8-0db7-4223-b35c-f077cfd9f078"
      },
      "outputs": [],
      "source": [
        "df.tail()"
      ]
    },
    {
      "cell_type": "code",
      "execution_count": null,
      "id": "3cadccaf-7409-4d99-bbc0-bd2a6e25f120",
      "metadata": {
        "id": "3cadccaf-7409-4d99-bbc0-bd2a6e25f120"
      },
      "outputs": [],
      "source": [
        "x = df.iloc[:,0:1].values\n",
        "y = df.iloc[:,1].values"
      ]
    },
    {
      "cell_type": "code",
      "execution_count": null,
      "id": "9a6c79b6-39e3-4382-8ebe-7f326e167dcf",
      "metadata": {
        "id": "9a6c79b6-39e3-4382-8ebe-7f326e167dcf"
      },
      "outputs": [],
      "source": [
        "x.shape"
      ]
    },
    {
      "cell_type": "code",
      "execution_count": null,
      "id": "299659cf-b5a9-4baa-a3f8-b7da5f2e31ec",
      "metadata": {
        "id": "299659cf-b5a9-4baa-a3f8-b7da5f2e31ec"
      },
      "outputs": [],
      "source": [
        "x"
      ]
    },
    {
      "cell_type": "code",
      "execution_count": null,
      "id": "4f17a875-2b51-49fb-b835-a8888d3324e1",
      "metadata": {
        "id": "4f17a875-2b51-49fb-b835-a8888d3324e1"
      },
      "outputs": [],
      "source": [
        "y.shape"
      ]
    },
    {
      "cell_type": "code",
      "execution_count": null,
      "id": "96aaea66-cb06-4692-9b29-2eba5a74a126",
      "metadata": {
        "id": "96aaea66-cb06-4692-9b29-2eba5a74a126"
      },
      "outputs": [],
      "source": [
        "y"
      ]
    },
    {
      "cell_type": "code",
      "execution_count": null,
      "id": "2cc9fc4f-c174-485d-b21e-1f9cedad0a36",
      "metadata": {
        "id": "2cc9fc4f-c174-485d-b21e-1f9cedad0a36"
      },
      "outputs": [],
      "source": [
        "!pip install scikit-learn"
      ]
    },
    {
      "cell_type": "code",
      "execution_count": null,
      "id": "d9b533e1-37f8-43d2-899b-8ccdb4fbe0da",
      "metadata": {
        "id": "d9b533e1-37f8-43d2-899b-8ccdb4fbe0da"
      },
      "outputs": [],
      "source": [
        "import sklearn"
      ]
    },
    {
      "cell_type": "code",
      "execution_count": null,
      "id": "d65982ff-fc47-48d3-8166-ee6ba9537d86",
      "metadata": {
        "id": "d65982ff-fc47-48d3-8166-ee6ba9537d86"
      },
      "outputs": [],
      "source": [
        "from sklearn.model_selection import train_test_split\n",
        "x_train, x_test, y_train, y_test = train_test_split( x, y, test_size = 0.25, random_state =2)"
      ]
    },
    {
      "cell_type": "code",
      "execution_count": null,
      "id": "5127bb28-9c3f-4429-a97b-17dc25957f55",
      "metadata": {
        "id": "5127bb28-9c3f-4429-a97b-17dc25957f55"
      },
      "outputs": [],
      "source": [
        "x_train.shape"
      ]
    },
    {
      "cell_type": "code",
      "execution_count": null,
      "id": "72af8ae9-b9e4-4023-9898-497e3219844a",
      "metadata": {
        "id": "72af8ae9-b9e4-4023-9898-497e3219844a"
      },
      "outputs": [],
      "source": [
        "x_test.shape"
      ]
    },
    {
      "cell_type": "code",
      "execution_count": null,
      "id": "4cf7cb1d-fc87-43f3-ba32-27d71e42fbeb",
      "metadata": {
        "id": "4cf7cb1d-fc87-43f3-ba32-27d71e42fbeb"
      },
      "outputs": [],
      "source": [
        "y_train.shape"
      ]
    },
    {
      "cell_type": "code",
      "execution_count": null,
      "id": "4a86f983-bdb6-4131-be6a-5b87d2e76d93",
      "metadata": {
        "id": "4a86f983-bdb6-4131-be6a-5b87d2e76d93"
      },
      "outputs": [],
      "source": [
        "y_test.shape"
      ]
    },
    {
      "cell_type": "code",
      "execution_count": null,
      "id": "5d5231ba-e3bb-4d43-b41a-020532ba1485",
      "metadata": {
        "id": "5d5231ba-e3bb-4d43-b41a-020532ba1485"
      },
      "outputs": [],
      "source": [
        "from sklearn.linear_model import LinearRegression\n",
        "\n",
        "model = LinearRegression()\n",
        "model.fit(x_train, y_train)"
      ]
    },
    {
      "cell_type": "code",
      "execution_count": null,
      "id": "e27159ce-ae6e-4f3f-87c5-6e2d39b4e79f",
      "metadata": {
        "id": "e27159ce-ae6e-4f3f-87c5-6e2d39b4e79f"
      },
      "outputs": [],
      "source": [
        "model.intercept_"
      ]
    },
    {
      "cell_type": "code",
      "execution_count": null,
      "id": "0527046a-a28f-42a0-bc62-38caa7d54d6a",
      "metadata": {
        "id": "0527046a-a28f-42a0-bc62-38caa7d54d6a"
      },
      "outputs": [],
      "source": [
        "model.coef_"
      ]
    },
    {
      "cell_type": "code",
      "execution_count": null,
      "id": "1aeb83b2-d5c8-47cb-bd2b-1669c79203d7",
      "metadata": {
        "id": "1aeb83b2-d5c8-47cb-bd2b-1669c79203d7"
      },
      "outputs": [],
      "source": [
        "model.score( x_train, y_train )"
      ]
    },
    {
      "cell_type": "code",
      "execution_count": null,
      "id": "ada44c0e-b4b4-4b0d-8979-44b523d2e6f9",
      "metadata": {
        "id": "ada44c0e-b4b4-4b0d-8979-44b523d2e6f9"
      },
      "outputs": [],
      "source": [
        "predictions = model.predict(x_test)"
      ]
    },
    {
      "cell_type": "code",
      "execution_count": null,
      "id": "4d83c945-03e4-4f52-8751-7f0a09bab654",
      "metadata": {
        "id": "4d83c945-03e4-4f52-8751-7f0a09bab654"
      },
      "outputs": [],
      "source": [
        "pd.DataFrame([x_test.reshape(-1),predictions.T])"
      ]
    },
    {
      "cell_type": "code",
      "execution_count": null,
      "id": "e74aad2b-7ca3-4e09-8d31-2d801b6d7aa7",
      "metadata": {
        "id": "e74aad2b-7ca3-4e09-8d31-2d801b6d7aa7"
      },
      "outputs": [],
      "source": [
        "plt.scatter(x_train, y_train, color='red')\n",
        "plt.plot(x_train,model.predict(x_train), color ='black')\n",
        "plt.title(\"training data\")\n",
        "plt.xlabel(\"years of exp\")\n",
        "plt.ylabel(\"salary\")\n",
        "plt.show()"
      ]
    },
    {
      "cell_type": "code",
      "execution_count": null,
      "id": "f96215a6-d34e-4065-adbe-27dfc3e73565",
      "metadata": {
        "id": "f96215a6-d34e-4065-adbe-27dfc3e73565"
      },
      "outputs": [],
      "source": []
    },
    {
      "cell_type": "code",
      "execution_count": null,
      "id": "0aaf8106-f694-4138-934d-82494562903f",
      "metadata": {
        "id": "0aaf8106-f694-4138-934d-82494562903f"
      },
      "outputs": [],
      "source": [
        "plt.scatter(x_train, y_train, color='red')\n",
        "plt.plot(x_test,model.predict(x_test), color ='black')\n",
        "plt.title(\"testing data\")\n",
        "plt.xlabel(\"years of exp\")\n",
        "plt.ylabel(\"salary\")\n",
        "plt.show()"
      ]
    },
    {
      "cell_type": "code",
      "execution_count": null,
      "id": "8266ffb8-ac61-4b1e-a869-d9c0a5a01f59",
      "metadata": {
        "id": "8266ffb8-ac61-4b1e-a869-d9c0a5a01f59"
      },
      "outputs": [],
      "source": [
        "model.score(x_test, y_test)"
      ]
    },
    {
      "cell_type": "code",
      "execution_count": null,
      "id": "79db654f-01a4-4e18-b466-cef3158e540b",
      "metadata": {
        "id": "79db654f-01a4-4e18-b466-cef3158e540b"
      },
      "outputs": [],
      "source": []
    }
  ],
  "metadata": {
    "kernelspec": {
      "display_name": "Python 3 (ipykernel)",
      "language": "python",
      "name": "python3"
    },
    "language_info": {
      "codemirror_mode": {
        "name": "ipython",
        "version": 3
      },
      "file_extension": ".py",
      "mimetype": "text/x-python",
      "name": "python",
      "nbconvert_exporter": "python",
      "pygments_lexer": "ipython3",
      "version": "3.13.3"
    },
    "colab": {
      "provenance": [],
      "include_colab_link": true
    }
  },
  "nbformat": 4,
  "nbformat_minor": 5
}