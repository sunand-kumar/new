{
  "nbformat": 4,
  "nbformat_minor": 0,
  "metadata": {
    "colab": {
      "provenance": [],
      "authorship_tag": "ABX9TyNdTYcKmSVCSvu1q8/Gy5Ju",
      "include_colab_link": true
    },
    "kernelspec": {
      "name": "python3",
      "display_name": "Python 3"
    },
    "language_info": {
      "name": "python"
    }
  },
  "cells": [
    {
      "cell_type": "markdown",
      "metadata": {
        "id": "view-in-github",
        "colab_type": "text"
      },
      "source": [
        "<a href=\"https://colab.research.google.com/github/sunand-kumar/new/blob/master/stop_words.ipynb\" target=\"_parent\"><img src=\"https://colab.research.google.com/assets/colab-badge.svg\" alt=\"Open In Colab\"/></a>"
      ]
    },
    {
      "cell_type": "markdown",
      "source": [
        "stop words.. words like 'a' and 'the' appear so frequently they dont require tagging.. we call these stop words.. they can be removed from the text"
      ],
      "metadata": {
        "id": "CqFj6P5UWE84"
      }
    },
    {
      "cell_type": "code",
      "source": [
        "import spacy\n",
        "nlp = spacy.load('en_core_web_sm')"
      ],
      "metadata": {
        "id": "T1IZBiesWjar"
      },
      "execution_count": null,
      "outputs": []
    },
    {
      "cell_type": "code",
      "source": [
        "print(nlp.Defaults.stop_words)"
      ],
      "metadata": {
        "colab": {
          "base_uri": "https://localhost:8080/"
        },
        "id": "O-qL6tiEXSHm",
        "outputId": "71a71fbb-3233-4b9e-f908-26b27a122260"
      },
      "execution_count": null,
      "outputs": [
        {
          "output_type": "stream",
          "name": "stdout",
          "text": [
            "{'fifteen', 're', 'also', 'under', 'are', 'latterly', 'throughout', 'has', 'former', 'although', 'how', 'amongst', 'anyone', 'just', 'so', 'thereupon', 'thus', 'noone', 'make', 'becoming', 'sixty', 'other', 'most', 'they', 'n‘t', 'therefore', 'within', 'regarding', 'does', 'been', 'as', 'four', 'your', 'alone', 'amount', 'nine', '‘m', 'if', \"n't\", 'who', \"'ll\", 'our', 'indeed', 'otherwise', 'nowhere', 'may', 'two', 'among', 'because', 'toward', 'should', 'yours', 'various', 'i', 'quite', 'will', 'formerly', 'of', 'using', 'seems', 'did', 'whither', 'whatever', 'to', 'thereby', 'which', 'ca', 'only', 'do', 'n’t', 'cannot', 'somewhere', 'yourselves', 'get', '‘s', 'could', 'serious', 'down', 'made', 'empty', 'this', 'anyway', 'not', 'put', 'hereafter', 'seemed', 'often', 'enough', 'himself', 'during', 'without', 'rather', 'before', 'being', 'thru', 'when', 'hundred', 'keep', 'by', 'whole', 'really', 'be', 'fifty', \"'s\", 'between', 'a', 'sometimes', 'or', 'any', 'all', 'less', 'very', 'thereafter', 'whoever', 'wherever', 'out', 'else', 'via', 'she', 'those', 'however', 'together', 'he', 'six', 'anyhow', 'move', 'than', '‘re', 'was', 'each', 'see', 'twenty', 'even', 'whose', 'his', 'eight', 'everywhere', '‘ve', 'am', 'now', 'onto', 'an', 'off', 'done', 'about', 'then', 'take', 'whereas', 'anywhere', 'whence', 'always', 'much', '’ll', \"'ve\", 'least', 'some', 'her', 'sometime', 'full', 'from', 'can', 'and', 'meanwhile', \"'m\", 'seem', 'had', 'must', 'thence', 'top', 'someone', 'doing', 'these', 'name', 'again', 'but', 'one', 'whenever', 'besides', 'three', 'might', 'front', 'yet', 'with', 'into', 'became', 'myself', 'hence', 'whereby', 'ourselves', 'next', 'back', '’m', 'same', 'show', 'wherein', 'at', 'well', 'become', 'last', 'ever', 'hereby', 'nevertheless', 'own', 'used', 'were', 'have', 'would', 'still', 'hereupon', 'themselves', 'it', 'though', 'below', 'twelve', 'yourself', 'everything', 'against', 'beforehand', 'whom', 'until', 'me', 'such', 'many', 'herself', 'too', 'give', 'due', 'mine', 'here', 'few', 'itself', 'bottom', 'further', 'something', 'becomes', 'that', 'nor', 'my', 'others', '‘d', 'side', 'anything', 'no', 'whether', 'for', 'where', 'is', 'around', 'therein', \"'d\", 'after', 'in', 'part', 'on', 'ours', 'everyone', 'across', 'whereafter', 'already', 'perhaps', 'almost', 'neither', 'us', 'beside', 'along', 'beyond', 'whereupon', 'except', 'herein', '’d', 'nobody', 'namely', 'above', 'since', 'third', 'call', 'why', 'afterwards', 'you', 'mostly', 'behind', '’ve', 'please', 'him', 'nothing', \"'re\", 'go', 'we', 'elsewhere', 'first', 'towards', 'while', 'another', 'hers', 'several', 'somehow', 'seeming', '‘ll', 'upon', 'never', 'per', 'five', 'unless', 'say', 'its', 'what', 'either', 'their', 'the', '’s', 'none', 'there', 'eleven', 'forty', 'once', 'more', 'through', 'up', 'moreover', 'latter', '’re', 'every', 'them', 'both', 'ten', 'over'}\n"
          ]
        }
      ]
    },
    {
      "cell_type": "code",
      "source": [
        "len(nlp.Defaults.stop_words)"
      ],
      "metadata": {
        "colab": {
          "base_uri": "https://localhost:8080/"
        },
        "id": "LS1QeYYWXcTZ",
        "outputId": "00de8b10-1296-44a4-86fa-0952f641ffde"
      },
      "execution_count": null,
      "outputs": [
        {
          "output_type": "execute_result",
          "data": {
            "text/plain": [
              "326"
            ]
          },
          "metadata": {},
          "execution_count": 3
        }
      ]
    },
    {
      "cell_type": "code",
      "source": [
        "nlp.vocab['first'].is_stop"
      ],
      "metadata": {
        "colab": {
          "base_uri": "https://localhost:8080/"
        },
        "id": "vDqYpNHZXyq_",
        "outputId": "fabd3390-2a06-47af-d452-131882d598e9"
      },
      "execution_count": null,
      "outputs": [
        {
          "output_type": "execute_result",
          "data": {
            "text/plain": [
              "True"
            ]
          },
          "metadata": {},
          "execution_count": 4
        }
      ]
    },
    {
      "cell_type": "code",
      "source": [
        "nlp.vocab['sun'].is_stop"
      ],
      "metadata": {
        "colab": {
          "base_uri": "https://localhost:8080/"
        },
        "id": "5P1EHWpQX9Wr",
        "outputId": "31ff390a-23e4-4f16-d058-fd5eac0335d8"
      },
      "execution_count": null,
      "outputs": [
        {
          "output_type": "execute_result",
          "data": {
            "text/plain": [
              "False"
            ]
          },
          "metadata": {},
          "execution_count": 5
        }
      ]
    },
    {
      "cell_type": "code",
      "source": [
        "nlp.Defaults.stop_words.add('sun')\n",
        "nlp.vocab['sun'].is_stop = True"
      ],
      "metadata": {
        "id": "1NEKm2g8YWdL"
      },
      "execution_count": null,
      "outputs": []
    },
    {
      "cell_type": "code",
      "source": [
        "nlp.vocab['sun'].is_stop"
      ],
      "metadata": {
        "colab": {
          "base_uri": "https://localhost:8080/"
        },
        "id": "nNjsa0k4YwSg",
        "outputId": "1013842a-feb7-467d-d962-d8428efca2e0"
      },
      "execution_count": null,
      "outputs": [
        {
          "output_type": "execute_result",
          "data": {
            "text/plain": [
              "True"
            ]
          },
          "metadata": {},
          "execution_count": 8
        }
      ]
    },
    {
      "cell_type": "code",
      "source": [
        "len(nlp.Defaults.stop_words)"
      ],
      "metadata": {
        "colab": {
          "base_uri": "https://localhost:8080/"
        },
        "id": "wh7QqA0bY4iz",
        "outputId": "f33fdc8c-3295-4e9c-e6c5-90917a4ba3b2"
      },
      "execution_count": null,
      "outputs": [
        {
          "output_type": "execute_result",
          "data": {
            "text/plain": [
              "327"
            ]
          },
          "metadata": {},
          "execution_count": 9
        }
      ]
    },
    {
      "cell_type": "code",
      "source": [
        "nlp.Defaults.stop_words.remove('sun')\n",
        "nlp.vocab['sun'].is_stop = False\n"
      ],
      "metadata": {
        "id": "j9MoMYsLZD0X"
      },
      "execution_count": null,
      "outputs": []
    },
    {
      "cell_type": "markdown",
      "source": [],
      "metadata": {
        "id": "41Zo9jEoWBUU"
      }
    },
    {
      "cell_type": "markdown",
      "source": [
        "removing a stop word from **vocabulory**"
      ],
      "metadata": {
        "id": "RuYpEnjoauUL"
      }
    },
    {
      "cell_type": "code",
      "source": [
        "len(nlp.Defaults.stop_words)"
      ],
      "metadata": {
        "colab": {
          "base_uri": "https://localhost:8080/"
        },
        "id": "5pvcmVA2a5zG",
        "outputId": "ab46d364-57c6-46f3-d067-7d0b5d76cb1f"
      },
      "execution_count": null,
      "outputs": [
        {
          "output_type": "execute_result",
          "data": {
            "text/plain": [
              "326"
            ]
          },
          "metadata": {},
          "execution_count": 13
        }
      ]
    },
    {
      "cell_type": "code",
      "source": [
        "nlp.vocab['sun'].is_stop"
      ],
      "metadata": {
        "colab": {
          "base_uri": "https://localhost:8080/"
        },
        "id": "9_wt2DhPbEdS",
        "outputId": "2f5fb62a-e298-4b64-c771-bcbe425b8340"
      },
      "execution_count": null,
      "outputs": [
        {
          "output_type": "execute_result",
          "data": {
            "text/plain": [
              "False"
            ]
          },
          "metadata": {},
          "execution_count": 16
        }
      ]
    },
    {
      "cell_type": "code",
      "source": [
        "nlp.Defaults.stop_words.remove('has')\n",
        "nlp.vocab['has'].is_stop = False"
      ],
      "metadata": {
        "id": "q0oyn4zvbtes"
      },
      "execution_count": null,
      "outputs": []
    },
    {
      "cell_type": "code",
      "source": [
        "len(nlp.Defaults.stop_words)"
      ],
      "metadata": {
        "colab": {
          "base_uri": "https://localhost:8080/"
        },
        "id": "Lg7XU1ipddD6",
        "outputId": "f8b8c4e4-beee-42f3-9e45-3c7d301e1218"
      },
      "execution_count": null,
      "outputs": [
        {
          "output_type": "execute_result",
          "data": {
            "text/plain": [
              "324"
            ]
          },
          "metadata": {},
          "execution_count": 27
        }
      ]
    },
    {
      "cell_type": "code",
      "source": [
        "nlp.vocab['only'].is_stop"
      ],
      "metadata": {
        "colab": {
          "base_uri": "https://localhost:8080/"
        },
        "id": "W0jy_MUCeK8D",
        "outputId": "75a2255e-13a2-4a20-c266-e808340672f1"
      },
      "execution_count": null,
      "outputs": [
        {
          "output_type": "execute_result",
          "data": {
            "text/plain": [
              "False"
            ]
          },
          "metadata": {},
          "execution_count": 28
        }
      ]
    }
  ]
}